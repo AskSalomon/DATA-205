{
 "cells": [
  {
   "cell_type": "code",
   "execution_count": 13,
   "id": "662e5a4a-7bc1-41c6-9e2e-b3b4b9cb633c",
   "metadata": {},
   "outputs": [],
   "source": [
    "# pip install dash"
   ]
  },
  {
   "cell_type": "code",
   "execution_count": 19,
   "id": "839aee96-1cf0-4cab-b778-d7d2929adbff",
   "metadata": {},
   "outputs": [
    {
     "data": {
      "text/html": [
       "\n",
       "        <iframe\n",
       "            width=\"100%\"\n",
       "            height=\"650\"\n",
       "            src=\"http://127.0.0.1:8050/\"\n",
       "            frameborder=\"0\"\n",
       "            allowfullscreen\n",
       "            \n",
       "        ></iframe>\n",
       "        "
      ],
      "text/plain": [
       "<IPython.lib.display.IFrame at 0x13b1e1670>"
      ]
     },
     "metadata": {},
     "output_type": "display_data"
    }
   ],
   "source": [
    "from dash import Dash, dcc, html, Input, Output, callback\n",
    "\n",
    "import plotly.express as px\n",
    "\n",
    "import pandas as pd\n",
    "\n",
    "app = Dash(__name__)\n",
    "\n",
    "df = pd.read_csv('https://raw.githubusercontent.com/AskSalomon/DATA-205/refs/heads/main/crime_ns2_dash.csv')\n",
    "\n",
    "app.layout = html.Div([\n",
    "    html.Div([\n",
    "\n",
    "        html.Div([\n",
    "            dcc.Dropdown(\n",
    "                options=[\n",
    "                    {'label': crime, 'value': crime} \n",
    "                    for crime in df['Crime Name1'].unique()\n",
    "                ],\n",
    "                value=df['Crime Name1'].unique()[0],\n",
    "                id='crime-name1-dropdown'\n",
    "            )\n",
    "        ], style={'width': '48%', 'display': 'inline-block'}),\n",
    "\n",
    "        html.Div([\n",
    "            dcc.Dropdown(\n",
    "            options= [\n",
    "                {'label': crime, 'value': crime} \n",
    "                    for crime in df['Crime Name2'].unique()\n",
    "                ],\n",
    "                value=df['Crime Name2'].unique()[0],\n",
    "                id='crime-name2-dropdown'\n",
    "            )\n",
    "            \n",
    "        ], style={'width': '48%', 'float': 'right', 'display': 'inline-block'})\n",
    "    ]),\n",
    "\n",
    "dcc.Graph(id='crime-area-graph')\n",
    "])\n",
    "\n",
    "@callback(\n",
    "    Output('crime-area-graph', 'figure'),\n",
    "    [Input('crime-name1-dropdown', 'value'),\n",
    "     Input('crime-name2-dropdown', 'value')]\n",
    "    )  \n",
    "def update_area_chart(selected_crime1, selected_crime2):\n",
    "    filtered_data = df[\n",
    "        (df['Crime Name1'] == selected_crime1) &\n",
    "        (df['Crime Name2'] == selected_crime2)\n",
    "    ]\n",
    "    \n",
    "    \n",
    "    fig = px.area(\n",
    "        filtered_data,\n",
    "        x='month_year',\n",
    "        y='Count',\n",
    "        color='Crime Name2',\n",
    "        title=f\"Trends for {selected_crime1} - {selected_crime2}\",\n",
    "        labels={\n",
    "            'month_year': 'Year-Month',\n",
    "            'Count': 'Number of Reports',\n",
    "            'Crime Name2': 'Crime Sub-category'\n",
    "        }\n",
    "    )\n",
    "    fig.update_layout(\n",
    "        template='plotly_white',\n",
    "        legend_title=\"Crime Sub-category\",\n",
    "        xaxis_title=\"Year-Month\",\n",
    "        yaxis_title=\"Number of Crime Reports\"\n",
    "    )\n",
    "    return fig\n",
    "\n",
    "if __name__ == '__main__':\n",
    "    app.run(debug=True)"
   ]
  },
  {
   "cell_type": "code",
   "execution_count": null,
   "id": "67fd2087-ced7-4b31-967e-b95dd59ebd9f",
   "metadata": {},
   "outputs": [],
   "source": []
  }
 ],
 "metadata": {
  "kernelspec": {
   "display_name": "Python 3 (ipykernel)",
   "language": "python",
   "name": "python3"
  },
  "language_info": {
   "codemirror_mode": {
    "name": "ipython",
    "version": 3
   },
   "file_extension": ".py",
   "mimetype": "text/x-python",
   "name": "python",
   "nbconvert_exporter": "python",
   "pygments_lexer": "ipython3",
   "version": "3.12.4"
  }
 },
 "nbformat": 4,
 "nbformat_minor": 5
}
