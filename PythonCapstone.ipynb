{
 "cells": [
  {
   "cell_type": "markdown",
   "id": "2190ff8d-570f-47bf-885b-131c2c5202e1",
   "metadata": {},
   "source": [
    "# Capstone Project: Applying Machine Learning to the Crime and Dispatch datasets "
   ]
  },
  {
   "cell_type": "code",
   "execution_count": 7,
   "id": "ef869b53-bc41-492a-b664-be029eaaff82",
   "metadata": {},
   "outputs": [],
   "source": [
    "import os as os\n",
    "import pandas as pd\n",
    "import seaborn as sns\n",
    "import numpy as np\n",
    "import matplotlib.pyplot as plt\n"
   ]
  },
  {
   "cell_type": "code",
   "execution_count": 59,
   "id": "ce9043b5-b9d7-4f85-b7fd-8052fa55d300",
   "metadata": {},
   "outputs": [],
   "source": [
    "from datetime import datetime"
   ]
  },
  {
   "cell_type": "markdown",
   "id": "da5ee5ba-657a-4f8a-b552-bdc95a623a34",
   "metadata": {},
   "source": [
    "## file uploads"
   ]
  },
  {
   "cell_type": "code",
   "execution_count": 66,
   "id": "fce6fc34-b5a4-4100-ada9-19a21c29c429",
   "metadata": {},
   "outputs": [],
   "source": [
    "file_path_dispatch = \"/Users/gimle/DATA-205-SETS/Police_Dispatched_Incidents_20240906 copy.csv\""
   ]
  },
  {
   "cell_type": "code",
   "execution_count": 68,
   "id": "62c7406d-d97d-4a34-bde9-f65473d423a7",
   "metadata": {},
   "outputs": [],
   "source": [
    "file_path_crime = \"/Users/gimle/DATA-205-SETS/Crime_20240906 copy.csv\""
   ]
  },
  {
   "cell_type": "code",
   "execution_count": 70,
   "id": "9d220667-a0e5-425d-8be9-1ff502d1efb7",
   "metadata": {},
   "outputs": [],
   "source": [
    "file_path_census = \"/Users/gimle/DATA-205-SETS/DECENNIALDHC2020.P1-Data copy.csv\""
   ]
  },
  {
   "cell_type": "code",
   "execution_count": 72,
   "id": "efe7b478-46e6-41b3-85ae-8c4aa2f29ace",
   "metadata": {},
   "outputs": [
    {
     "name": "stderr",
     "output_type": "stream",
     "text": [
      "/var/folders/vt/8zqwv5_51777lk_0p42g3sdr0000gn/T/ipykernel_99309/2466321656.py:2: DtypeWarning: Columns (11,16) have mixed types. Specify dtype option on import or set low_memory=False.\n",
      "  dispatch = pd.read_csv(file_path_dispatch)\n"
     ]
    },
    {
     "name": "stdout",
     "output_type": "stream",
     "text": [
      "dispatch created\n",
      "crime created\n",
      "crime created\n"
     ]
    }
   ],
   "source": [
    "if os.path.exists(file_path_dispatch): \n",
    "    dispatch = pd.read_csv(file_path_dispatch)\n",
    "    print(\"dispatch created\")\n",
    "   \n",
    "else: \n",
    "    print(\"youve got fix the dispatch filepath\") \n",
    "    \n",
    "if os.path.exists(file_path_crime): \n",
    "    crime = pd.read_csv(file_path_crime)\n",
    "    print(\"crime created\")\n",
    "   \n",
    "else: \n",
    "    print(\"youve got fix the crime filepath\")\n",
    "    \n",
    "if os.path.exists(file_path_census): \n",
    "    census = pd.read_csv(file_path_census)\n",
    "    print(\"crime created\")\n",
    "   \n",
    "else: \n",
    "    print(\"youve got fix the census filepath\") "
   ]
  },
  {
   "cell_type": "markdown",
   "id": "37906317-0410-474a-aef6-cfefa1283c8f",
   "metadata": {},
   "source": [
    "# Exploratory Data analysis"
   ]
  },
  {
   "cell_type": "code",
   "execution_count": 75,
   "id": "490654ee-8c02-4598-be53-f996b065f87d",
   "metadata": {},
   "outputs": [
    {
     "data": {
      "text/html": [
       "<div>\n",
       "<style scoped>\n",
       "    .dataframe tbody tr th:only-of-type {\n",
       "        vertical-align: middle;\n",
       "    }\n",
       "\n",
       "    .dataframe tbody tr th {\n",
       "        vertical-align: top;\n",
       "    }\n",
       "\n",
       "    .dataframe thead th {\n",
       "        text-align: right;\n",
       "    }\n",
       "</style>\n",
       "<table border=\"1\" class=\"dataframe\">\n",
       "  <thead>\n",
       "    <tr style=\"text-align: right;\">\n",
       "      <th></th>\n",
       "      <th>Incident ID</th>\n",
       "      <th>Offence Code</th>\n",
       "      <th>CR Number</th>\n",
       "      <th>Dispatch Date / Time</th>\n",
       "      <th>Start_Date_Time</th>\n",
       "      <th>End_Date_Time</th>\n",
       "      <th>NIBRS Code</th>\n",
       "      <th>Victims</th>\n",
       "      <th>Crime Name1</th>\n",
       "      <th>Crime Name2</th>\n",
       "      <th>...</th>\n",
       "      <th>PRA</th>\n",
       "      <th>Address Number</th>\n",
       "      <th>Street Prefix</th>\n",
       "      <th>Street Name</th>\n",
       "      <th>Street Suffix</th>\n",
       "      <th>Street Type</th>\n",
       "      <th>Latitude</th>\n",
       "      <th>Longitude</th>\n",
       "      <th>Police District Number</th>\n",
       "      <th>Location</th>\n",
       "    </tr>\n",
       "  </thead>\n",
       "  <tbody>\n",
       "    <tr>\n",
       "      <th>0</th>\n",
       "      <td>201403032</td>\n",
       "      <td>5404</td>\n",
       "      <td>220052381</td>\n",
       "      <td>11/27/2022 11:52:08 PM</td>\n",
       "      <td>11/27/2022 11:52:00 PM</td>\n",
       "      <td>NaN</td>\n",
       "      <td>90D</td>\n",
       "      <td>1</td>\n",
       "      <td>Crime Against Society</td>\n",
       "      <td>Driving Under the Influence</td>\n",
       "      <td>...</td>\n",
       "      <td>594</td>\n",
       "      <td>NaN</td>\n",
       "      <td>NaN</td>\n",
       "      <td>MATENY</td>\n",
       "      <td>NaN</td>\n",
       "      <td>RD</td>\n",
       "      <td>39.15682</td>\n",
       "      <td>-77.2665</td>\n",
       "      <td>5D</td>\n",
       "      <td>(39.1568, -77.2665)</td>\n",
       "    </tr>\n",
       "    <tr>\n",
       "      <th>1</th>\n",
       "      <td>201359823</td>\n",
       "      <td>5404</td>\n",
       "      <td>220000965</td>\n",
       "      <td>01/09/2022 01:18:38 AM</td>\n",
       "      <td>01/09/2022 01:34:00 AM</td>\n",
       "      <td>NaN</td>\n",
       "      <td>90D</td>\n",
       "      <td>1</td>\n",
       "      <td>Crime Against Society</td>\n",
       "      <td>Driving Under the Influence</td>\n",
       "      <td>...</td>\n",
       "      <td>428</td>\n",
       "      <td>100.0</td>\n",
       "      <td>N</td>\n",
       "      <td>FREDERICK</td>\n",
       "      <td>NaN</td>\n",
       "      <td>AVE</td>\n",
       "      <td>39.09438</td>\n",
       "      <td>-77.1517</td>\n",
       "      <td>6D</td>\n",
       "      <td>(39.0944, -77.1517)</td>\n",
       "    </tr>\n",
       "    <tr>\n",
       "      <th>2</th>\n",
       "      <td>201360056</td>\n",
       "      <td>2304</td>\n",
       "      <td>220001336</td>\n",
       "      <td>01/12/2022 02:53:25 AM</td>\n",
       "      <td>01/12/2022 02:53:00 AM</td>\n",
       "      <td>01/12/2022 03:00:00 AM</td>\n",
       "      <td>23G</td>\n",
       "      <td>1</td>\n",
       "      <td>Crime Against Property</td>\n",
       "      <td>Theft of Motor Vehicle Parts or Accessories</td>\n",
       "      <td>...</td>\n",
       "      <td>293</td>\n",
       "      <td>1600.0</td>\n",
       "      <td>NaN</td>\n",
       "      <td>BRADLEY</td>\n",
       "      <td>NaN</td>\n",
       "      <td>AVE</td>\n",
       "      <td>39.08126</td>\n",
       "      <td>-77.1205</td>\n",
       "      <td>1D</td>\n",
       "      <td>(39.0813, -77.1205)</td>\n",
       "    </tr>\n",
       "  </tbody>\n",
       "</table>\n",
       "<p>3 rows × 30 columns</p>\n",
       "</div>"
      ],
      "text/plain": [
       "   Incident ID  Offence Code  CR Number    Dispatch Date / Time  \\\n",
       "0    201403032          5404  220052381  11/27/2022 11:52:08 PM   \n",
       "1    201359823          5404  220000965  01/09/2022 01:18:38 AM   \n",
       "2    201360056          2304  220001336  01/12/2022 02:53:25 AM   \n",
       "\n",
       "          Start_Date_Time           End_Date_Time NIBRS Code  Victims  \\\n",
       "0  11/27/2022 11:52:00 PM                     NaN        90D        1   \n",
       "1  01/09/2022 01:34:00 AM                     NaN        90D        1   \n",
       "2  01/12/2022 02:53:00 AM  01/12/2022 03:00:00 AM        23G        1   \n",
       "\n",
       "              Crime Name1                                  Crime Name2  ...  \\\n",
       "0   Crime Against Society                  Driving Under the Influence  ...   \n",
       "1   Crime Against Society                  Driving Under the Influence  ...   \n",
       "2  Crime Against Property  Theft of Motor Vehicle Parts or Accessories  ...   \n",
       "\n",
       "   PRA Address Number Street Prefix Street Name Street Suffix  Street Type  \\\n",
       "0  594            NaN           NaN      MATENY           NaN           RD   \n",
       "1  428          100.0             N   FREDERICK           NaN          AVE   \n",
       "2  293         1600.0           NaN     BRADLEY           NaN          AVE   \n",
       "\n",
       "   Latitude Longitude Police District Number             Location  \n",
       "0  39.15682  -77.2665                     5D  (39.1568, -77.2665)  \n",
       "1  39.09438  -77.1517                     6D  (39.0944, -77.1517)  \n",
       "2  39.08126  -77.1205                     1D  (39.0813, -77.1205)  \n",
       "\n",
       "[3 rows x 30 columns]"
      ]
     },
     "execution_count": 75,
     "metadata": {},
     "output_type": "execute_result"
    }
   ],
   "source": [
    "crime.head(3)"
   ]
  },
  {
   "cell_type": "code",
   "execution_count": 79,
   "id": "b601297a-4ce3-4bfe-a100-704b04c7e3af",
   "metadata": {},
   "outputs": [
    {
     "data": {
      "text/html": [
       "<div>\n",
       "<style scoped>\n",
       "    .dataframe tbody tr th:only-of-type {\n",
       "        vertical-align: middle;\n",
       "    }\n",
       "\n",
       "    .dataframe tbody tr th {\n",
       "        vertical-align: top;\n",
       "    }\n",
       "\n",
       "    .dataframe thead th {\n",
       "        text-align: right;\n",
       "    }\n",
       "</style>\n",
       "<table border=\"1\" class=\"dataframe\">\n",
       "  <thead>\n",
       "    <tr style=\"text-align: right;\">\n",
       "      <th></th>\n",
       "      <th>Incident_ID</th>\n",
       "      <th>Crime Reports</th>\n",
       "      <th>Crash Reports</th>\n",
       "      <th>Start Time</th>\n",
       "      <th>End Time</th>\n",
       "      <th>Priority</th>\n",
       "      <th>Initial Type</th>\n",
       "      <th>Close Type</th>\n",
       "      <th>Address</th>\n",
       "      <th>City</th>\n",
       "      <th>...</th>\n",
       "      <th>PRA</th>\n",
       "      <th>CallTime CallRoute</th>\n",
       "      <th>Calltime Dispatch</th>\n",
       "      <th>Calltime Arrive</th>\n",
       "      <th>Calltime Cleared</th>\n",
       "      <th>CallRoute Dispatch</th>\n",
       "      <th>Dispatch Arrive</th>\n",
       "      <th>Arrive Cleared</th>\n",
       "      <th>Disposition Desc</th>\n",
       "      <th>Location</th>\n",
       "    </tr>\n",
       "  </thead>\n",
       "  <tbody>\n",
       "    <tr>\n",
       "      <th>0</th>\n",
       "      <td>P1700827460</td>\n",
       "      <td>170547273</td>\n",
       "      <td>NaN</td>\n",
       "      <td>12/07/2017 11:27:39 PM</td>\n",
       "      <td>12/08/2017 04:03:37 AM</td>\n",
       "      <td>0</td>\n",
       "      <td>BURGLARY</td>\n",
       "      <td>BURGLARY</td>\n",
       "      <td>100 BLK  TEACHERS WAY</td>\n",
       "      <td>GAITHERSBURG</td>\n",
       "      <td>...</td>\n",
       "      <td>419.0</td>\n",
       "      <td>78.0</td>\n",
       "      <td>99.0</td>\n",
       "      <td>121.0</td>\n",
       "      <td>16557.0</td>\n",
       "      <td>20.0</td>\n",
       "      <td>21.0</td>\n",
       "      <td>16436.0</td>\n",
       "      <td>ROBFIREARM-RESIDENTIAL</td>\n",
       "      <td>POINT (-77.193 39.1432)</td>\n",
       "    </tr>\n",
       "    <tr>\n",
       "      <th>1</th>\n",
       "      <td>P1700834957</td>\n",
       "      <td>170548471</td>\n",
       "      <td>NaN</td>\n",
       "      <td>12/14/2017 04:29:38 AM</td>\n",
       "      <td>12/14/2017 07:50:08 AM</td>\n",
       "      <td>1</td>\n",
       "      <td>DOMESTIC DISTURBANCE/VIOLENCE</td>\n",
       "      <td>DOMESTIC DISTURBANCE/VIOLENCE</td>\n",
       "      <td>12100 BLK  SIOUX PL</td>\n",
       "      <td>GAITHERSBURG</td>\n",
       "      <td>...</td>\n",
       "      <td>591.0</td>\n",
       "      <td>133.0</td>\n",
       "      <td>197.0</td>\n",
       "      <td>591.0</td>\n",
       "      <td>12029.0</td>\n",
       "      <td>64.0</td>\n",
       "      <td>394.0</td>\n",
       "      <td>11438.0</td>\n",
       "      <td>MENTALTRANSPORT</td>\n",
       "      <td>POINT (-77.2524 39.1284)</td>\n",
       "    </tr>\n",
       "    <tr>\n",
       "      <th>2</th>\n",
       "      <td>P1900298804</td>\n",
       "      <td>190043080</td>\n",
       "      <td>NaN</td>\n",
       "      <td>09/08/2019 08:55:02 PM</td>\n",
       "      <td>09/09/2019 05:13:44 AM</td>\n",
       "      <td>0</td>\n",
       "      <td>ROBBERY JUST OCCURRED</td>\n",
       "      <td>ROBBERY JUST OCCURRED</td>\n",
       "      <td>13700 BLK  CONNECTICUT AVE</td>\n",
       "      <td>SILVER SPRING</td>\n",
       "      <td>...</td>\n",
       "      <td>337.0</td>\n",
       "      <td>147.0</td>\n",
       "      <td>218.0</td>\n",
       "      <td>351.0</td>\n",
       "      <td>29921.0</td>\n",
       "      <td>71.0</td>\n",
       "      <td>132.0</td>\n",
       "      <td>29570.0</td>\n",
       "      <td>LARCNYSHOPLFTNG$50-$199</td>\n",
       "      <td>POINT (-77.0808 39.0789)</td>\n",
       "    </tr>\n",
       "  </tbody>\n",
       "</table>\n",
       "<p>3 rows × 26 columns</p>\n",
       "</div>"
      ],
      "text/plain": [
       "   Incident_ID Crime Reports Crash Reports              Start Time  \\\n",
       "0  P1700827460     170547273           NaN  12/07/2017 11:27:39 PM   \n",
       "1  P1700834957     170548471           NaN  12/14/2017 04:29:38 AM   \n",
       "2  P1900298804     190043080           NaN  09/08/2019 08:55:02 PM   \n",
       "\n",
       "                 End Time  Priority                   Initial Type  \\\n",
       "0  12/08/2017 04:03:37 AM         0                       BURGLARY   \n",
       "1  12/14/2017 07:50:08 AM         1  DOMESTIC DISTURBANCE/VIOLENCE   \n",
       "2  09/09/2019 05:13:44 AM         0          ROBBERY JUST OCCURRED   \n",
       "\n",
       "                      Close Type                     Address           City  \\\n",
       "0                       BURGLARY       100 BLK  TEACHERS WAY   GAITHERSBURG   \n",
       "1  DOMESTIC DISTURBANCE/VIOLENCE         12100 BLK  SIOUX PL   GAITHERSBURG   \n",
       "2          ROBBERY JUST OCCURRED  13700 BLK  CONNECTICUT AVE  SILVER SPRING   \n",
       "\n",
       "   ...    PRA CallTime CallRoute  Calltime Dispatch  Calltime Arrive  \\\n",
       "0  ...  419.0               78.0               99.0            121.0   \n",
       "1  ...  591.0              133.0              197.0            591.0   \n",
       "2  ...  337.0              147.0              218.0            351.0   \n",
       "\n",
       "  Calltime Cleared CallRoute Dispatch Dispatch Arrive  Arrive Cleared  \\\n",
       "0          16557.0               20.0            21.0         16436.0   \n",
       "1          12029.0               64.0           394.0         11438.0   \n",
       "2          29921.0               71.0           132.0         29570.0   \n",
       "\n",
       "          Disposition Desc                  Location  \n",
       "0   ROBFIREARM-RESIDENTIAL   POINT (-77.193 39.1432)  \n",
       "1          MENTALTRANSPORT  POINT (-77.2524 39.1284)  \n",
       "2  LARCNYSHOPLFTNG$50-$199  POINT (-77.0808 39.0789)  \n",
       "\n",
       "[3 rows x 26 columns]"
      ]
     },
     "execution_count": 79,
     "metadata": {},
     "output_type": "execute_result"
    }
   ],
   "source": [
    "dispatch.head(3)"
   ]
  },
  {
   "cell_type": "code",
   "execution_count": 81,
   "id": "ed8f3720-adbf-4b54-8dc1-d5896b1c6432",
   "metadata": {},
   "outputs": [
    {
     "data": {
      "text/plain": [
       "Index(['Incident ID', 'Offence Code', 'CR Number', 'Dispatch Date / Time',\n",
       "       'Start_Date_Time', 'End_Date_Time', 'NIBRS Code', 'Victims',\n",
       "       'Crime Name1', 'Crime Name2', 'Crime Name3', 'Police District Name',\n",
       "       'Block Address', 'City', 'State', 'Zip Code', 'Agency', 'Place',\n",
       "       'Sector', 'Beat', 'PRA', 'Address Number', 'Street Prefix',\n",
       "       'Street Name', 'Street Suffix', 'Street Type', 'Latitude', 'Longitude',\n",
       "       'Police District Number', 'Location'],\n",
       "      dtype='object')"
      ]
     },
     "execution_count": 81,
     "metadata": {},
     "output_type": "execute_result"
    }
   ],
   "source": [
    "crime.columns"
   ]
  },
  {
   "cell_type": "code",
   "execution_count": 83,
   "id": "0557986c-2de2-410c-a26f-79a34f0cadc0",
   "metadata": {},
   "outputs": [
    {
     "data": {
      "text/plain": [
       "Index(['Incident_ID', 'Crime Reports', 'Crash Reports', 'Start Time',\n",
       "       'End Time', 'Priority', 'Initial Type', 'Close Type', 'Address', 'City',\n",
       "       'State', 'Zip', 'Longitude', 'Latitude', 'Police District Number',\n",
       "       'Beat', 'PRA', 'CallTime CallRoute', 'Calltime Dispatch',\n",
       "       'Calltime Arrive', 'Calltime Cleared', 'CallRoute Dispatch',\n",
       "       'Dispatch Arrive', 'Arrive Cleared', 'Disposition Desc', 'Location'],\n",
       "      dtype='object')"
      ]
     },
     "execution_count": 83,
     "metadata": {},
     "output_type": "execute_result"
    }
   ],
   "source": [
    "dispatch.columns"
   ]
  },
  {
   "cell_type": "code",
   "execution_count": 85,
   "id": "0176f666-6f53-4c15-887c-95724b2732b6",
   "metadata": {},
   "outputs": [
    {
     "data": {
      "text/plain": [
       "Index(['GEO_ID', 'NAME', 'P1_001N', 'Unnamed: 3'], dtype='object')"
      ]
     },
     "execution_count": 85,
     "metadata": {},
     "output_type": "execute_result"
    }
   ],
   "source": [
    "census.columns"
   ]
  },
  {
   "cell_type": "code",
   "execution_count": 87,
   "id": "96a51db5-4235-493f-b38c-acf8a4af56d4",
   "metadata": {},
   "outputs": [],
   "source": [
    "crime.drop(['Incident ID','Block Address', 'City', 'State','Zip Code', 'Address Number', 'Street Prefix',\n",
    "       'Street Name', 'Street Suffix', 'Street Type','Location'], axis=1, inplace=True) "
   ]
  },
  {
   "cell_type": "code",
   "execution_count": 89,
   "id": "cc0eb32d-9de5-473b-ae7d-3d21a75e0888",
   "metadata": {},
   "outputs": [],
   "source": [
    "dispatch.drop(['Incident_ID','Crash Reports','Address','City', 'State', 'Zip', 'Location' ], axis=1, inplace=True) "
   ]
  },
  {
   "cell_type": "code",
   "execution_count": 91,
   "id": "e89f0f66-f427-4e71-aeba-5c8cf3d860a6",
   "metadata": {},
   "outputs": [],
   "source": [
    "# Count different things\n",
    "#vintage_count = somelier['vintage'].value_counts()\n",
    "#print(vintage_count) "
   ]
  },
  {
   "cell_type": "code",
   "execution_count": 93,
   "id": "5d2ffa38-bb5d-45c8-81a9-676dd661b668",
   "metadata": {},
   "outputs": [
    {
     "data": {
      "text/plain": [
       "Crime Reports             654675\n",
       "Start Time                     0\n",
       "End Time                       1\n",
       "Priority                       0\n",
       "Initial Type                   0\n",
       "Close Type                     0\n",
       "Longitude                     27\n",
       "Latitude                      27\n",
       "Police District Number         1\n",
       "Beat                         259\n",
       "PRA                          202\n",
       "CallTime CallRoute            41\n",
       "Calltime Dispatch          31638\n",
       "Calltime Arrive           180215\n",
       "Calltime Cleared             122\n",
       "CallRoute Dispatch         31634\n",
       "Dispatch Arrive           183233\n",
       "Arrive Cleared            180252\n",
       "Disposition Desc               2\n",
       "dtype: int64"
      ]
     },
     "execution_count": 93,
     "metadata": {},
     "output_type": "execute_result"
    }
   ],
   "source": [
    "dispatch.isna().sum() "
   ]
  },
  {
   "cell_type": "code",
   "execution_count": 53,
   "id": "e4554a24-6789-43ce-8998-189bf2378694",
   "metadata": {},
   "outputs": [
    {
     "data": {
      "text/plain": [
       "Offence Code                   0\n",
       "CR Number                      0\n",
       "Dispatch Date / Time       46646\n",
       "Start_Date_Time                0\n",
       "End_Date_Time             162161\n",
       "NIBRS Code                     0\n",
       "Victims                        0\n",
       "Crime Name1                    0\n",
       "Crime Name2                    0\n",
       "Crime Name3                    0\n",
       "Police District Name         622\n",
       "Agency                         0\n",
       "Place                          0\n",
       "Sector                         0\n",
       "Beat                           0\n",
       "PRA                            6\n",
       "Police District Number         0\n",
       "Location                       0\n",
       "dtype: int64"
      ]
     },
     "execution_count": 53,
     "metadata": {},
     "output_type": "execute_result"
    }
   ],
   "source": [
    "crime.isna().sum() "
   ]
  },
  {
   "cell_type": "code",
   "execution_count": 55,
   "id": "f67afe61-c1cd-4569-94ee-31b3bdeeb715",
   "metadata": {
    "scrolled": true
   },
   "outputs": [
    {
     "name": "stdout",
     "output_type": "stream",
     "text": [
      "Crime Reports              object\n",
      "Start Time                 object\n",
      "End Time                   object\n",
      "Priority                    int64\n",
      "Initial Type               object\n",
      "Close Type                 object\n",
      "Police District Number     object\n",
      "Beat                       object\n",
      "PRA                        object\n",
      "CallTime CallRoute        float64\n",
      "Calltime Dispatch         float64\n",
      "Calltime Arrive           float64\n",
      "Calltime Cleared          float64\n",
      "CallRoute Dispatch        float64\n",
      "Dispatch Arrive           float64\n",
      "Arrive Cleared            float64\n",
      "Disposition Desc           object\n",
      "Location                   object\n",
      "dtype: object\n"
     ]
    }
   ],
   "source": [
    "# Checking types\n",
    "print(dispatch.dtypes)"
   ]
  },
  {
   "cell_type": "code",
   "execution_count": 57,
   "id": "fdf3f16b-def5-46d2-9113-3b8aa1469a9c",
   "metadata": {},
   "outputs": [
    {
     "name": "stdout",
     "output_type": "stream",
     "text": [
      "Offence Code               int64\n",
      "CR Number                  int64\n",
      "Dispatch Date / Time      object\n",
      "Start_Date_Time           object\n",
      "End_Date_Time             object\n",
      "NIBRS Code                object\n",
      "Victims                    int64\n",
      "Crime Name1               object\n",
      "Crime Name2               object\n",
      "Crime Name3               object\n",
      "Police District Name      object\n",
      "Agency                    object\n",
      "Place                     object\n",
      "Sector                    object\n",
      "Beat                      object\n",
      "PRA                       object\n",
      "Police District Number    object\n",
      "Location                  object\n",
      "dtype: object\n"
     ]
    }
   ],
   "source": [
    "# Checking types\n",
    "print(crime.dtypes)"
   ]
  },
  {
   "cell_type": "code",
   "execution_count": 97,
   "id": "32b4ef25-25dc-4315-bb67-17bbd9c0c818",
   "metadata": {},
   "outputs": [
    {
     "name": "stdout",
     "output_type": "stream",
     "text": [
      "318012\n",
      "786255\n"
     ]
    }
   ],
   "source": [
    "count_crime_1 = len(crime)\n",
    "count_dispatch_1 = len(dispatch)\n",
    "print(count_crime_1)\n",
    "print(count_dispatch_1) "
   ]
  },
  {
   "cell_type": "markdown",
   "id": "74951e6d-9d2f-4556-a795-f73cc1c004c2",
   "metadata": {},
   "source": [
    "# Fixing time and removing all entries prior to 2018\n",
    "Both datasets are needlessly large and cover too much time and too many changes to internal reporting procedure. It is therefore essential to cut down the size of the dataset we are working with. "
   ]
  },
  {
   "cell_type": "code",
   "execution_count": 99,
   "id": "080530ea-5f77-4d7f-b10f-535b47ea7dee",
   "metadata": {},
   "outputs": [],
   "source": [
    "# Reformatting all time and date columns\n",
    "crime['Dispatch Date / Time'] = pd.to_datetime(crime['Dispatch Date / Time'], format='%m/%d/%Y %I:%M:%S %p', errors='coerce')\n",
    "crime[\"Start_Date_Time\"] = pd.to_datetime(crime['Start_Date_Time'], format='%m/%d/%Y %I:%M:%S %p', errors='coerce')\n",
    "crime['End_Date_Time'] = pd.to_datetime(crime['End_Date_Time'], format='%m/%d/%Y %I:%M:%S %p', errors='coerce')\n",
    "\n",
    "dispatch['Start Time'] = pd.to_datetime(dispatch['Start Time'], format='%m/%d/%Y %I:%M:%S %p', errors='coerce')\n",
    "dispatch['End Time'] = pd.to_datetime(dispatch['End Time'], format='%m/%d/%Y %I:%M:%S %p', errors='coerce')\n",
    "print(\"done\")"
   ]
  },
  {
   "cell_type": "code",
   "execution_count": 105,
   "id": "99adb438-22e6-4f34-8c57-976665da3d2d",
   "metadata": {},
   "outputs": [
    {
     "name": "stdout",
     "output_type": "stream",
     "text": [
      "done\n"
     ]
    }
   ],
   "source": [
    "# Renaming for easy of use\n",
    "crime.rename(columns={\"Start_Date_Time\": 'Start_Time'}, inplace=True)\n",
    "crime.rename(columns={'Dispatch Date / Time': 'Dispatch_Time'}, inplace=True)\n",
    "crime.rename(columns={\"End_Date_Time\": 'End_Time'}, inplace=True)\n",
    "dispatch.rename(columns={'Start Time': 'Start_Time'}, inplace=True)\n",
    "dispatch.rename(columns={'End Time': 'End_Time'}, inplace=True)\n",
    "print(\"done\")"
   ]
  },
  {
   "cell_type": "code",
   "execution_count": 107,
   "id": "9d7c4ca1-24d1-4718-953d-54fbefec4f25",
   "metadata": {},
   "outputs": [
    {
     "name": "stdout",
     "output_type": "stream",
     "text": [
      "done\n"
     ]
    }
   ],
   "source": [
    "crime = crime[crime['Start_Time'] >= datetime(2018, 1, 1)]\n",
    "dispatch = dispatch[dispatch['Start_Time'] >= datetime(2018, 1, 1)]\n",
    "print(\"done\")"
   ]
  },
  {
   "cell_type": "code",
   "execution_count": 109,
   "id": "a370df46-19dd-4fdc-b627-a56122773aa5",
   "metadata": {},
   "outputs": [
    {
     "name": "stdout",
     "output_type": "stream",
     "text": [
      "252929\n",
      "637730\n"
     ]
    }
   ],
   "source": [
    "count_crime_2 = len(crime)\n",
    "count_dispatch_2 = len(dispatch)\n",
    "print(count_crime_2)\n",
    "print(count_dispatch_2) "
   ]
  },
  {
   "cell_type": "markdown",
   "id": "baeec352-1b39-4a91-b3bb-aa0bff85bde7",
   "metadata": {},
   "source": [
    "# Fixing location point data for easier use in ARC GIS \n",
    "This is much easier to do in while the datasets are seperate"
   ]
  },
  {
   "cell_type": "code",
   "execution_count": 112,
   "id": "26ec184f-c393-4480-94cb-12cb55908c77",
   "metadata": {},
   "outputs": [
    {
     "name": "stdout",
     "output_type": "stream",
     "text": [
      "done\n"
     ]
    }
   ],
   "source": [
    "crime['WKT'] = crime.apply(lambda row: f\"POINT ({row['Longitude']} {row['Latitude']})\", axis=1)\n",
    "dispatch['WKT'] = dispatch.apply(lambda row: f\"POINT ({row['Longitude']} {row['Latitude']})\", axis=1)\n",
    "print(\"done\")"
   ]
  },
  {
   "cell_type": "code",
   "execution_count": 113,
   "id": "147f41cf-4785-4c66-99c9-ff24a39deb9c",
   "metadata": {},
   "outputs": [
    {
     "data": {
      "text/html": [
       "<div>\n",
       "<style scoped>\n",
       "    .dataframe tbody tr th:only-of-type {\n",
       "        vertical-align: middle;\n",
       "    }\n",
       "\n",
       "    .dataframe tbody tr th {\n",
       "        vertical-align: top;\n",
       "    }\n",
       "\n",
       "    .dataframe thead th {\n",
       "        text-align: right;\n",
       "    }\n",
       "</style>\n",
       "<table border=\"1\" class=\"dataframe\">\n",
       "  <thead>\n",
       "    <tr style=\"text-align: right;\">\n",
       "      <th></th>\n",
       "      <th>Offence Code</th>\n",
       "      <th>CR Number</th>\n",
       "      <th>Dispatch_Time</th>\n",
       "      <th>Start_Time</th>\n",
       "      <th>End_Time</th>\n",
       "      <th>NIBRS Code</th>\n",
       "      <th>Victims</th>\n",
       "      <th>Crime Name1</th>\n",
       "      <th>Crime Name2</th>\n",
       "      <th>Crime Name3</th>\n",
       "      <th>Police District Name</th>\n",
       "      <th>Agency</th>\n",
       "      <th>Place</th>\n",
       "      <th>Sector</th>\n",
       "      <th>Beat</th>\n",
       "      <th>PRA</th>\n",
       "      <th>Latitude</th>\n",
       "      <th>Longitude</th>\n",
       "      <th>Police District Number</th>\n",
       "      <th>WKT</th>\n",
       "    </tr>\n",
       "  </thead>\n",
       "  <tbody>\n",
       "    <tr>\n",
       "      <th>0</th>\n",
       "      <td>5404</td>\n",
       "      <td>220052381</td>\n",
       "      <td>2022-11-27 23:52:08</td>\n",
       "      <td>2022-11-27 23:52:00</td>\n",
       "      <td>NaT</td>\n",
       "      <td>90D</td>\n",
       "      <td>1</td>\n",
       "      <td>Crime Against Society</td>\n",
       "      <td>Driving Under the Influence</td>\n",
       "      <td>DRIVING UNDER THE INFLUENCE LIQUOR</td>\n",
       "      <td>GERMANTOWN</td>\n",
       "      <td>MCPD</td>\n",
       "      <td>Street - In vehicle</td>\n",
       "      <td>N</td>\n",
       "      <td>5N2</td>\n",
       "      <td>594</td>\n",
       "      <td>39.15682</td>\n",
       "      <td>-77.2665</td>\n",
       "      <td>5D</td>\n",
       "      <td>POINT (-77.2665 39.15682)</td>\n",
       "    </tr>\n",
       "    <tr>\n",
       "      <th>1</th>\n",
       "      <td>5404</td>\n",
       "      <td>220000965</td>\n",
       "      <td>2022-01-09 01:18:38</td>\n",
       "      <td>2022-01-09 01:34:00</td>\n",
       "      <td>NaT</td>\n",
       "      <td>90D</td>\n",
       "      <td>1</td>\n",
       "      <td>Crime Against Society</td>\n",
       "      <td>Driving Under the Influence</td>\n",
       "      <td>DRIVING UNDER THE INFLUENCE LIQUOR</td>\n",
       "      <td>MONTGOMERY VILLAGE</td>\n",
       "      <td>GPD</td>\n",
       "      <td>Street - In vehicle</td>\n",
       "      <td>P</td>\n",
       "      <td>6P2</td>\n",
       "      <td>428</td>\n",
       "      <td>39.09438</td>\n",
       "      <td>-77.1517</td>\n",
       "      <td>6D</td>\n",
       "      <td>POINT (-77.1517 39.09438)</td>\n",
       "    </tr>\n",
       "    <tr>\n",
       "      <th>2</th>\n",
       "      <td>2304</td>\n",
       "      <td>220001336</td>\n",
       "      <td>2022-01-12 02:53:25</td>\n",
       "      <td>2022-01-12 02:53:00</td>\n",
       "      <td>2022-01-12 03:00:00</td>\n",
       "      <td>23G</td>\n",
       "      <td>1</td>\n",
       "      <td>Crime Against Property</td>\n",
       "      <td>Theft of Motor Vehicle Parts or Accessories</td>\n",
       "      <td>LARCENY - AUTO PARTS</td>\n",
       "      <td>ROCKVILLE</td>\n",
       "      <td>RCPD</td>\n",
       "      <td>Residence - Driveway</td>\n",
       "      <td>A</td>\n",
       "      <td>1A2</td>\n",
       "      <td>293</td>\n",
       "      <td>39.08126</td>\n",
       "      <td>-77.1205</td>\n",
       "      <td>1D</td>\n",
       "      <td>POINT (-77.1205 39.08126)</td>\n",
       "    </tr>\n",
       "  </tbody>\n",
       "</table>\n",
       "</div>"
      ],
      "text/plain": [
       "   Offence Code  CR Number       Dispatch_Time          Start_Time  \\\n",
       "0          5404  220052381 2022-11-27 23:52:08 2022-11-27 23:52:00   \n",
       "1          5404  220000965 2022-01-09 01:18:38 2022-01-09 01:34:00   \n",
       "2          2304  220001336 2022-01-12 02:53:25 2022-01-12 02:53:00   \n",
       "\n",
       "             End_Time NIBRS Code  Victims             Crime Name1  \\\n",
       "0                 NaT        90D        1   Crime Against Society   \n",
       "1                 NaT        90D        1   Crime Against Society   \n",
       "2 2022-01-12 03:00:00        23G        1  Crime Against Property   \n",
       "\n",
       "                                   Crime Name2  \\\n",
       "0                  Driving Under the Influence   \n",
       "1                  Driving Under the Influence   \n",
       "2  Theft of Motor Vehicle Parts or Accessories   \n",
       "\n",
       "                          Crime Name3 Police District Name Agency  \\\n",
       "0  DRIVING UNDER THE INFLUENCE LIQUOR           GERMANTOWN   MCPD   \n",
       "1  DRIVING UNDER THE INFLUENCE LIQUOR   MONTGOMERY VILLAGE    GPD   \n",
       "2                LARCENY - AUTO PARTS            ROCKVILLE   RCPD   \n",
       "\n",
       "                  Place Sector Beat  PRA  Latitude  Longitude  \\\n",
       "0   Street - In vehicle      N  5N2  594  39.15682   -77.2665   \n",
       "1   Street - In vehicle      P  6P2  428  39.09438   -77.1517   \n",
       "2  Residence - Driveway      A  1A2  293  39.08126   -77.1205   \n",
       "\n",
       "  Police District Number                        WKT  \n",
       "0                     5D  POINT (-77.2665 39.15682)  \n",
       "1                     6D  POINT (-77.1517 39.09438)  \n",
       "2                     1D  POINT (-77.1205 39.08126)  "
      ]
     },
     "execution_count": 113,
     "metadata": {},
     "output_type": "execute_result"
    }
   ],
   "source": [
    "crime.head(3)"
   ]
  },
  {
   "cell_type": "code",
   "execution_count": 136,
   "id": "f2096d18-b288-439c-a077-c4f0b654e57a",
   "metadata": {},
   "outputs": [
    {
     "data": {
      "text/plain": [
       "ID                             0\n",
       "Start_Time                     0\n",
       "End_Time                       1\n",
       "Priority                       0\n",
       "Initial Type                   0\n",
       "Close Type                     0\n",
       "Longitude                      6\n",
       "Latitude                       6\n",
       "Police District Number         0\n",
       "Beat                         186\n",
       "PRA                          143\n",
       "CallTime CallRoute            40\n",
       "Calltime Dispatch          25232\n",
       "Calltime Arrive           148379\n",
       "Calltime Cleared             106\n",
       "CallRoute Dispatch         25228\n",
       "Dispatch Arrive           151398\n",
       "Arrive Cleared            148409\n",
       "Disposition Desc               1\n",
       "WKT                            0\n",
       "dtype: int64"
      ]
     },
     "execution_count": 136,
     "metadata": {},
     "output_type": "execute_result"
    }
   ],
   "source": [
    "crime.isna().sum() \n",
    "dispatch.isna().sum() "
   ]
  },
  {
   "cell_type": "markdown",
   "id": "61767953-2d0e-4c7a-9961-e88dac556bae",
   "metadata": {},
   "source": [
    "# Joining the datasets: \n",
    "Here joining the crime and dispatch datasets, keeping all\n",
    "This is done by first fixing the names of the ID column which in the crime dataset is called CR number and in the dispatch dataset is called crime reports"
   ]
  },
  {
   "cell_type": "code",
   "execution_count": 124,
   "id": "9ad464b4-3e27-4710-8c8b-326df4133d7f",
   "metadata": {},
   "outputs": [],
   "source": [
    "crime.rename(columns={'CR Number': 'ID'}, inplace=True)\n",
    "dispatch.rename(columns={'Crime Reports': 'ID'}, inplace=True)"
   ]
  },
  {
   "cell_type": "code",
   "execution_count": 140,
   "id": "22f021ef-f7cd-4bca-a104-78a6ef22947b",
   "metadata": {},
   "outputs": [],
   "source": [
    "dispatch['ID'] = pd.to_numeric(dispatch['ID'], errors='coerce').fillna(0).astype(int)"
   ]
  },
  {
   "cell_type": "code",
   "execution_count": 130,
   "id": "1522e7b4-99e1-4279-907f-e2f5f020eddc",
   "metadata": {},
   "outputs": [
    {
     "name": "stdout",
     "output_type": "stream",
     "text": [
      "   Offence Code  ID Dispatch_Time Start_Time_crime End_Time_crime NIBRS Code  \\\n",
      "0           NaN   0           NaT              NaT            NaT        NaN   \n",
      "1           NaN   0           NaT              NaT            NaT        NaN   \n",
      "2           NaN   0           NaT              NaT            NaT        NaN   \n",
      "\n",
      "   Victims Crime Name1 Crime Name2 Crime Name3  ... PRA_dispatch  \\\n",
      "0      NaN         NaN         NaN         NaN  ...        355.0   \n",
      "1      NaN         NaN         NaN         NaN  ...        721.0   \n",
      "2      NaN         NaN         NaN         NaN  ...        503.0   \n",
      "\n",
      "  CallTime CallRoute Calltime Dispatch Calltime Arrive Calltime Cleared  \\\n",
      "0              142.0             948.0          1315.0           1515.0   \n",
      "1              136.0             194.0           600.0           2019.0   \n",
      "2              107.0             199.0             NaN            256.0   \n",
      "\n",
      "  CallRoute Dispatch  Dispatch Arrive  Arrive Cleared  \\\n",
      "0              806.0            366.0           200.0   \n",
      "1               58.0            405.0          1419.0   \n",
      "2               91.0              NaN             NaN   \n",
      "\n",
      "          Disposition Desc               WKT_dispatch  \n",
      "0  SUSPICIOUSSIT/PRSON/VEH  POINT (-77.0482 39.04128)  \n",
      "1  SUSPICIOUSSIT/PRSON/VEH  POINT (-77.1947 39.10502)  \n",
      "2       OTHERMISCELLANEOUS  POINT (-77.1865 39.16493)  \n",
      "\n",
      "[3 rows x 39 columns]\n"
     ]
    }
   ],
   "source": [
    "incidents = pd.merge(crime, dispatch, on='ID', how='outer', suffixes=('_crime', '_dispatch'))"
   ]
  },
  {
   "cell_type": "code",
   "execution_count": 142,
   "id": "73d17f0f-c3eb-4238-ba7e-42a2f283f1ea",
   "metadata": {},
   "outputs": [
    {
     "data": {
      "text/plain": [
       "Offence Code                       557003\n",
       "ID                                      0\n",
       "Dispatch_Time                      569750\n",
       "Start_Time_crime                   557003\n",
       "End_Time_crime                     689243\n",
       "NIBRS Code                         557003\n",
       "Victims                            557003\n",
       "Crime Name1                        557003\n",
       "Crime Name2                        557003\n",
       "Crime Name3                        557003\n",
       "Police District Name               557599\n",
       "Agency                             557003\n",
       "Place                              557003\n",
       "Sector                             557003\n",
       "Beat_crime                         557003\n",
       "PRA_crime                          557004\n",
       "Latitude_crime                     557003\n",
       "Longitude_crime                    557003\n",
       "Police District Number_crime       557003\n",
       "WKT_crime                          557003\n",
       "Start_Time_dispatch                164636\n",
       "End_Time_dispatch                  164637\n",
       "Priority                           164636\n",
       "Initial Type                       164636\n",
       "Close Type                         164636\n",
       "Longitude_dispatch                 164642\n",
       "Latitude_dispatch                  164642\n",
       "Police District Number_dispatch    164636\n",
       "Beat_dispatch                      164823\n",
       "PRA_dispatch                       164779\n",
       "CallTime CallRoute                 164677\n",
       "Calltime Dispatch                  190062\n",
       "Calltime Arrive                    315435\n",
       "Calltime Cleared                   164743\n",
       "CallRoute Dispatch                 190057\n",
       "Dispatch Arrive                    318475\n",
       "Arrive Cleared                     315465\n",
       "Disposition Desc                   164637\n",
       "WKT_dispatch                       164636\n",
       "dtype: int64"
      ]
     },
     "execution_count": 142,
     "metadata": {},
     "output_type": "execute_result"
    }
   ],
   "source": [
    "incidents.isna().sum() "
   ]
  },
  {
   "cell_type": "code",
   "execution_count": 134,
   "id": "19d02b58-5853-42b5-be3c-62f73ae686fc",
   "metadata": {},
   "outputs": [
    {
     "data": {
      "text/html": [
       "<div>\n",
       "<style scoped>\n",
       "    .dataframe tbody tr th:only-of-type {\n",
       "        vertical-align: middle;\n",
       "    }\n",
       "\n",
       "    .dataframe tbody tr th {\n",
       "        vertical-align: top;\n",
       "    }\n",
       "\n",
       "    .dataframe thead th {\n",
       "        text-align: right;\n",
       "    }\n",
       "</style>\n",
       "<table border=\"1\" class=\"dataframe\">\n",
       "  <thead>\n",
       "    <tr style=\"text-align: right;\">\n",
       "      <th></th>\n",
       "      <th>Offence Code</th>\n",
       "      <th>ID</th>\n",
       "      <th>Dispatch_Time</th>\n",
       "      <th>Start_Time_crime</th>\n",
       "      <th>End_Time_crime</th>\n",
       "      <th>NIBRS Code</th>\n",
       "      <th>Victims</th>\n",
       "      <th>Crime Name1</th>\n",
       "      <th>Crime Name2</th>\n",
       "      <th>Crime Name3</th>\n",
       "      <th>...</th>\n",
       "      <th>PRA_dispatch</th>\n",
       "      <th>CallTime CallRoute</th>\n",
       "      <th>Calltime Dispatch</th>\n",
       "      <th>Calltime Arrive</th>\n",
       "      <th>Calltime Cleared</th>\n",
       "      <th>CallRoute Dispatch</th>\n",
       "      <th>Dispatch Arrive</th>\n",
       "      <th>Arrive Cleared</th>\n",
       "      <th>Disposition Desc</th>\n",
       "      <th>WKT_dispatch</th>\n",
       "    </tr>\n",
       "  </thead>\n",
       "  <tbody>\n",
       "    <tr>\n",
       "      <th>0</th>\n",
       "      <td>NaN</td>\n",
       "      <td>0</td>\n",
       "      <td>NaT</td>\n",
       "      <td>NaT</td>\n",
       "      <td>NaT</td>\n",
       "      <td>NaN</td>\n",
       "      <td>NaN</td>\n",
       "      <td>NaN</td>\n",
       "      <td>NaN</td>\n",
       "      <td>NaN</td>\n",
       "      <td>...</td>\n",
       "      <td>355.0</td>\n",
       "      <td>142.0</td>\n",
       "      <td>948.0</td>\n",
       "      <td>1315.0</td>\n",
       "      <td>1515.0</td>\n",
       "      <td>806.0</td>\n",
       "      <td>366.0</td>\n",
       "      <td>200.0</td>\n",
       "      <td>SUSPICIOUSSIT/PRSON/VEH</td>\n",
       "      <td>POINT (-77.0482 39.04128)</td>\n",
       "    </tr>\n",
       "    <tr>\n",
       "      <th>1</th>\n",
       "      <td>NaN</td>\n",
       "      <td>0</td>\n",
       "      <td>NaT</td>\n",
       "      <td>NaT</td>\n",
       "      <td>NaT</td>\n",
       "      <td>NaN</td>\n",
       "      <td>NaN</td>\n",
       "      <td>NaN</td>\n",
       "      <td>NaN</td>\n",
       "      <td>NaN</td>\n",
       "      <td>...</td>\n",
       "      <td>721.0</td>\n",
       "      <td>136.0</td>\n",
       "      <td>194.0</td>\n",
       "      <td>600.0</td>\n",
       "      <td>2019.0</td>\n",
       "      <td>58.0</td>\n",
       "      <td>405.0</td>\n",
       "      <td>1419.0</td>\n",
       "      <td>SUSPICIOUSSIT/PRSON/VEH</td>\n",
       "      <td>POINT (-77.1947 39.10502)</td>\n",
       "    </tr>\n",
       "    <tr>\n",
       "      <th>2</th>\n",
       "      <td>NaN</td>\n",
       "      <td>0</td>\n",
       "      <td>NaT</td>\n",
       "      <td>NaT</td>\n",
       "      <td>NaT</td>\n",
       "      <td>NaN</td>\n",
       "      <td>NaN</td>\n",
       "      <td>NaN</td>\n",
       "      <td>NaN</td>\n",
       "      <td>NaN</td>\n",
       "      <td>...</td>\n",
       "      <td>503.0</td>\n",
       "      <td>107.0</td>\n",
       "      <td>199.0</td>\n",
       "      <td>NaN</td>\n",
       "      <td>256.0</td>\n",
       "      <td>91.0</td>\n",
       "      <td>NaN</td>\n",
       "      <td>NaN</td>\n",
       "      <td>OTHERMISCELLANEOUS</td>\n",
       "      <td>POINT (-77.1865 39.16493)</td>\n",
       "    </tr>\n",
       "  </tbody>\n",
       "</table>\n",
       "<p>3 rows × 39 columns</p>\n",
       "</div>"
      ],
      "text/plain": [
       "   Offence Code  ID Dispatch_Time Start_Time_crime End_Time_crime NIBRS Code  \\\n",
       "0           NaN   0           NaT              NaT            NaT        NaN   \n",
       "1           NaN   0           NaT              NaT            NaT        NaN   \n",
       "2           NaN   0           NaT              NaT            NaT        NaN   \n",
       "\n",
       "   Victims Crime Name1 Crime Name2 Crime Name3  ... PRA_dispatch  \\\n",
       "0      NaN         NaN         NaN         NaN  ...        355.0   \n",
       "1      NaN         NaN         NaN         NaN  ...        721.0   \n",
       "2      NaN         NaN         NaN         NaN  ...        503.0   \n",
       "\n",
       "  CallTime CallRoute Calltime Dispatch Calltime Arrive Calltime Cleared  \\\n",
       "0              142.0             948.0          1315.0           1515.0   \n",
       "1              136.0             194.0           600.0           2019.0   \n",
       "2              107.0             199.0             NaN            256.0   \n",
       "\n",
       "  CallRoute Dispatch  Dispatch Arrive  Arrive Cleared  \\\n",
       "0              806.0            366.0           200.0   \n",
       "1               58.0            405.0          1419.0   \n",
       "2               91.0              NaN             NaN   \n",
       "\n",
       "          Disposition Desc               WKT_dispatch  \n",
       "0  SUSPICIOUSSIT/PRSON/VEH  POINT (-77.0482 39.04128)  \n",
       "1  SUSPICIOUSSIT/PRSON/VEH  POINT (-77.1947 39.10502)  \n",
       "2       OTHERMISCELLANEOUS  POINT (-77.1865 39.16493)  \n",
       "\n",
       "[3 rows x 39 columns]"
      ]
     },
     "execution_count": 134,
     "metadata": {},
     "output_type": "execute_result"
    }
   ],
   "source": [
    "incidents.head(3)"
   ]
  },
  {
   "cell_type": "markdown",
   "id": "a5dd9836-5899-4f1a-ac9f-1e147fa45ce0",
   "metadata": {},
   "source": [
    "# Matching columns and checking for errors "
   ]
  },
  {
   "cell_type": "code",
   "execution_count": null,
   "id": "813327b2-7c40-4a47-a16a-3c4b61c06d31",
   "metadata": {},
   "outputs": [],
   "source": [
    "matches = incidents.dropna(subset=['ID_crime', 'ID_dispatch']).shape[0]\n",
    "just_crime = incidents[incidents['ID_dispatch'].isna()].shape[0]\n",
    "just_crime = incidents[incidents['ID_crime'].isna()].shape[0]\n"
   ]
  },
  {
   "cell_type": "code",
   "execution_count": null,
   "id": "7f1f441e-de34-458a-a68d-3eadff53384e",
   "metadata": {},
   "outputs": [],
   "source": [
    "categories = ['Matches', 'Only in Crime', 'Only in Dispatch']\n",
    "values = [matches, only_in_crime, only_in_dispatch]\n",
    "plt.bar(categories, values)\n",
    "plt.title('Comparison of Matches and Mismatches between Crime and Dispatch')\n",
    "plt.ylabel('Number of Entries')\n",
    "plt.show()"
   ]
  },
  {
   "cell_type": "code",
   "execution_count": null,
   "id": "c8bb0f51-53a6-4c78-a8c8-81d424c14e70",
   "metadata": {},
   "outputs": [],
   "source": [
    "incidents['PRA_BEAT_same'] = (incidents['PRA_crime'] == incidents['PRA_dispatch']) & \\\n",
    "                             (incidents['BEAT_crime'] == incidents['BEAT_dispatch'])\n",
    "\n",
    "incidents['PRA_BEAT_mismatch'] = ~incidents['PRA_BEAT_same']\n"
   ]
  },
  {
   "cell_type": "code",
   "execution_count": null,
   "id": "249d5e92-6d60-4f66-aade-763335598f88",
   "metadata": {},
   "outputs": [],
   "source": []
  },
  {
   "cell_type": "code",
   "execution_count": null,
   "id": "43248241-138b-41a3-9ec8-aa8b80f77d36",
   "metadata": {},
   "outputs": [],
   "source": []
  },
  {
   "cell_type": "code",
   "execution_count": null,
   "id": "376f628d-2184-486d-aa4e-9368b31258d2",
   "metadata": {},
   "outputs": [],
   "source": []
  },
  {
   "cell_type": "code",
   "execution_count": null,
   "id": "16c0529e-3abc-4791-87f7-451c9d192283",
   "metadata": {},
   "outputs": [],
   "source": []
  }
 ],
 "metadata": {
  "kernelspec": {
   "display_name": "Python 3 (ipykernel)",
   "language": "python",
   "name": "python3"
  },
  "language_info": {
   "codemirror_mode": {
    "name": "ipython",
    "version": 3
   },
   "file_extension": ".py",
   "mimetype": "text/x-python",
   "name": "python",
   "nbconvert_exporter": "python",
   "pygments_lexer": "ipython3",
   "version": "3.12.4"
  }
 },
 "nbformat": 4,
 "nbformat_minor": 5
}
