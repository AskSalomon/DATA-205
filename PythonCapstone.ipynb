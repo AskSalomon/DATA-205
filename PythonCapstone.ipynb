{
 "cells": [
  {
   "cell_type": "markdown",
   "id": "2190ff8d-570f-47bf-885b-131c2c5202e1",
   "metadata": {},
   "source": [
    "# Capstone Project: Applying Machine Learning to the Crime and Dispatch datasets "
   ]
  },
  {
   "cell_type": "code",
   "execution_count": 1,
   "id": "ef869b53-bc41-492a-b664-be029eaaff82",
   "metadata": {},
   "outputs": [],
   "source": [
    "import os as os\n",
    "import pandas as pd\n",
    "import seaborn as sns\n",
    "import numpy as np\n",
    "import matplotlib.pyplot as plt"
   ]
  },
  {
   "cell_type": "code",
   "execution_count": 2,
   "id": "ce9043b5-b9d7-4f85-b7fd-8052fa55d300",
   "metadata": {},
   "outputs": [],
   "source": [
    "from datetime import datetime"
   ]
  },
  {
   "cell_type": "markdown",
   "id": "da5ee5ba-657a-4f8a-b552-bdc95a623a34",
   "metadata": {},
   "source": [
    "## file uploads"
   ]
  },
  {
   "cell_type": "code",
   "execution_count": 6,
   "id": "fce6fc34-b5a4-4100-ada9-19a21c29c429",
   "metadata": {},
   "outputs": [],
   "source": [
    "file_path_dispatch = \"/Users/gimle/DATA-205-SETS/Police_Dispatched_Incidents_20240906 copy.csv\"\n"
   ]
  },
  {
   "cell_type": "code",
   "execution_count": 8,
   "id": "62c7406d-d97d-4a34-bde9-f65473d423a7",
   "metadata": {},
   "outputs": [],
   "source": [
    "file_path_crime = \"/Users/gimle/DATA-205-SETS/Crime_20240906 copy.csv\"\n"
   ]
  },
  {
   "cell_type": "code",
   "execution_count": 10,
   "id": "9d220667-a0e5-425d-8be9-1ff502d1efb7",
   "metadata": {},
   "outputs": [],
   "source": [
    "file_path_census = \"/Users/gimle/DATA-205-SETS/DECENNIALDHC2020.P1-Data copy.csv\"\n"
   ]
  },
  {
   "cell_type": "code",
   "execution_count": 12,
   "id": "efe7b478-46e6-41b3-85ae-8c4aa2f29ace",
   "metadata": {},
   "outputs": [
    {
     "name": "stderr",
     "output_type": "stream",
     "text": [
      "/var/folders/vt/8zqwv5_51777lk_0p42g3sdr0000gn/T/ipykernel_16546/2466321656.py:2: DtypeWarning: Columns (11,16) have mixed types. Specify dtype option on import or set low_memory=False.\n",
      "  dispatch = pd.read_csv(file_path_dispatch)\n"
     ]
    },
    {
     "name": "stdout",
     "output_type": "stream",
     "text": [
      "dispatch created\n",
      "crime created\n",
      "crime created\n"
     ]
    }
   ],
   "source": [
    "if os.path.exists(file_path_dispatch): \n",
    "    dispatch = pd.read_csv(file_path_dispatch)\n",
    "    print(\"dispatch created\")\n",
    "   \n",
    "else: \n",
    "    print(\"youve got fix the dispatch filepath\") \n",
    "    \n",
    "if os.path.exists(file_path_crime): \n",
    "    crime = pd.read_csv(file_path_crime)\n",
    "    print(\"crime created\")\n",
    "   \n",
    "else: \n",
    "    print(\"youve got fix the crime filepath\")\n",
    "    \n",
    "if os.path.exists(file_path_census): \n",
    "    census = pd.read_csv(file_path_census)\n",
    "    print(\"crime created\")\n",
    "   \n",
    "else: \n",
    "    print(\"youve got fix the census filepath\") "
   ]
  },
  {
   "cell_type": "markdown",
   "id": "37906317-0410-474a-aef6-cfefa1283c8f",
   "metadata": {},
   "source": [
    "# Exploratory Data analysis"
   ]
  },
  {
   "cell_type": "code",
   "execution_count": 15,
   "id": "490654ee-8c02-4598-be53-f996b065f87d",
   "metadata": {},
   "outputs": [
    {
     "data": {
      "text/html": [
       "<div>\n",
       "<style scoped>\n",
       "    .dataframe tbody tr th:only-of-type {\n",
       "        vertical-align: middle;\n",
       "    }\n",
       "\n",
       "    .dataframe tbody tr th {\n",
       "        vertical-align: top;\n",
       "    }\n",
       "\n",
       "    .dataframe thead th {\n",
       "        text-align: right;\n",
       "    }\n",
       "</style>\n",
       "<table border=\"1\" class=\"dataframe\">\n",
       "  <thead>\n",
       "    <tr style=\"text-align: right;\">\n",
       "      <th></th>\n",
       "      <th>Incident ID</th>\n",
       "      <th>Offence Code</th>\n",
       "      <th>CR Number</th>\n",
       "      <th>Dispatch Date / Time</th>\n",
       "      <th>Start_Date_Time</th>\n",
       "      <th>End_Date_Time</th>\n",
       "      <th>NIBRS Code</th>\n",
       "      <th>Victims</th>\n",
       "      <th>Crime Name1</th>\n",
       "      <th>Crime Name2</th>\n",
       "      <th>...</th>\n",
       "      <th>PRA</th>\n",
       "      <th>Address Number</th>\n",
       "      <th>Street Prefix</th>\n",
       "      <th>Street Name</th>\n",
       "      <th>Street Suffix</th>\n",
       "      <th>Street Type</th>\n",
       "      <th>Latitude</th>\n",
       "      <th>Longitude</th>\n",
       "      <th>Police District Number</th>\n",
       "      <th>Location</th>\n",
       "    </tr>\n",
       "  </thead>\n",
       "  <tbody>\n",
       "    <tr>\n",
       "      <th>0</th>\n",
       "      <td>201403032</td>\n",
       "      <td>5404</td>\n",
       "      <td>220052381</td>\n",
       "      <td>11/27/2022 11:52:08 PM</td>\n",
       "      <td>11/27/2022 11:52:00 PM</td>\n",
       "      <td>NaN</td>\n",
       "      <td>90D</td>\n",
       "      <td>1</td>\n",
       "      <td>Crime Against Society</td>\n",
       "      <td>Driving Under the Influence</td>\n",
       "      <td>...</td>\n",
       "      <td>594</td>\n",
       "      <td>NaN</td>\n",
       "      <td>NaN</td>\n",
       "      <td>MATENY</td>\n",
       "      <td>NaN</td>\n",
       "      <td>RD</td>\n",
       "      <td>39.15682</td>\n",
       "      <td>-77.2665</td>\n",
       "      <td>5D</td>\n",
       "      <td>(39.1568, -77.2665)</td>\n",
       "    </tr>\n",
       "    <tr>\n",
       "      <th>1</th>\n",
       "      <td>201359823</td>\n",
       "      <td>5404</td>\n",
       "      <td>220000965</td>\n",
       "      <td>01/09/2022 01:18:38 AM</td>\n",
       "      <td>01/09/2022 01:34:00 AM</td>\n",
       "      <td>NaN</td>\n",
       "      <td>90D</td>\n",
       "      <td>1</td>\n",
       "      <td>Crime Against Society</td>\n",
       "      <td>Driving Under the Influence</td>\n",
       "      <td>...</td>\n",
       "      <td>428</td>\n",
       "      <td>100.0</td>\n",
       "      <td>N</td>\n",
       "      <td>FREDERICK</td>\n",
       "      <td>NaN</td>\n",
       "      <td>AVE</td>\n",
       "      <td>39.09438</td>\n",
       "      <td>-77.1517</td>\n",
       "      <td>6D</td>\n",
       "      <td>(39.0944, -77.1517)</td>\n",
       "    </tr>\n",
       "    <tr>\n",
       "      <th>2</th>\n",
       "      <td>201360056</td>\n",
       "      <td>2304</td>\n",
       "      <td>220001336</td>\n",
       "      <td>01/12/2022 02:53:25 AM</td>\n",
       "      <td>01/12/2022 02:53:00 AM</td>\n",
       "      <td>01/12/2022 03:00:00 AM</td>\n",
       "      <td>23G</td>\n",
       "      <td>1</td>\n",
       "      <td>Crime Against Property</td>\n",
       "      <td>Theft of Motor Vehicle Parts or Accessories</td>\n",
       "      <td>...</td>\n",
       "      <td>293</td>\n",
       "      <td>1600.0</td>\n",
       "      <td>NaN</td>\n",
       "      <td>BRADLEY</td>\n",
       "      <td>NaN</td>\n",
       "      <td>AVE</td>\n",
       "      <td>39.08126</td>\n",
       "      <td>-77.1205</td>\n",
       "      <td>1D</td>\n",
       "      <td>(39.0813, -77.1205)</td>\n",
       "    </tr>\n",
       "  </tbody>\n",
       "</table>\n",
       "<p>3 rows × 30 columns</p>\n",
       "</div>"
      ],
      "text/plain": [
       "   Incident ID  Offence Code  CR Number    Dispatch Date / Time  \\\n",
       "0    201403032          5404  220052381  11/27/2022 11:52:08 PM   \n",
       "1    201359823          5404  220000965  01/09/2022 01:18:38 AM   \n",
       "2    201360056          2304  220001336  01/12/2022 02:53:25 AM   \n",
       "\n",
       "          Start_Date_Time           End_Date_Time NIBRS Code  Victims  \\\n",
       "0  11/27/2022 11:52:00 PM                     NaN        90D        1   \n",
       "1  01/09/2022 01:34:00 AM                     NaN        90D        1   \n",
       "2  01/12/2022 02:53:00 AM  01/12/2022 03:00:00 AM        23G        1   \n",
       "\n",
       "              Crime Name1                                  Crime Name2  ...  \\\n",
       "0   Crime Against Society                  Driving Under the Influence  ...   \n",
       "1   Crime Against Society                  Driving Under the Influence  ...   \n",
       "2  Crime Against Property  Theft of Motor Vehicle Parts or Accessories  ...   \n",
       "\n",
       "   PRA Address Number Street Prefix Street Name Street Suffix  Street Type  \\\n",
       "0  594            NaN           NaN      MATENY           NaN           RD   \n",
       "1  428          100.0             N   FREDERICK           NaN          AVE   \n",
       "2  293         1600.0           NaN     BRADLEY           NaN          AVE   \n",
       "\n",
       "   Latitude Longitude Police District Number             Location  \n",
       "0  39.15682  -77.2665                     5D  (39.1568, -77.2665)  \n",
       "1  39.09438  -77.1517                     6D  (39.0944, -77.1517)  \n",
       "2  39.08126  -77.1205                     1D  (39.0813, -77.1205)  \n",
       "\n",
       "[3 rows x 30 columns]"
      ]
     },
     "execution_count": 15,
     "metadata": {},
     "output_type": "execute_result"
    }
   ],
   "source": [
    "crime.head(3)"
   ]
  },
  {
   "cell_type": "code",
   "execution_count": 17,
   "id": "b601297a-4ce3-4bfe-a100-704b04c7e3af",
   "metadata": {},
   "outputs": [
    {
     "data": {
      "text/html": [
       "<div>\n",
       "<style scoped>\n",
       "    .dataframe tbody tr th:only-of-type {\n",
       "        vertical-align: middle;\n",
       "    }\n",
       "\n",
       "    .dataframe tbody tr th {\n",
       "        vertical-align: top;\n",
       "    }\n",
       "\n",
       "    .dataframe thead th {\n",
       "        text-align: right;\n",
       "    }\n",
       "</style>\n",
       "<table border=\"1\" class=\"dataframe\">\n",
       "  <thead>\n",
       "    <tr style=\"text-align: right;\">\n",
       "      <th></th>\n",
       "      <th>Incident_ID</th>\n",
       "      <th>Crime Reports</th>\n",
       "      <th>Crash Reports</th>\n",
       "      <th>Start Time</th>\n",
       "      <th>End Time</th>\n",
       "      <th>Priority</th>\n",
       "      <th>Initial Type</th>\n",
       "      <th>Close Type</th>\n",
       "      <th>Address</th>\n",
       "      <th>City</th>\n",
       "      <th>...</th>\n",
       "      <th>PRA</th>\n",
       "      <th>CallTime CallRoute</th>\n",
       "      <th>Calltime Dispatch</th>\n",
       "      <th>Calltime Arrive</th>\n",
       "      <th>Calltime Cleared</th>\n",
       "      <th>CallRoute Dispatch</th>\n",
       "      <th>Dispatch Arrive</th>\n",
       "      <th>Arrive Cleared</th>\n",
       "      <th>Disposition Desc</th>\n",
       "      <th>Location</th>\n",
       "    </tr>\n",
       "  </thead>\n",
       "  <tbody>\n",
       "    <tr>\n",
       "      <th>0</th>\n",
       "      <td>P1700827460</td>\n",
       "      <td>170547273</td>\n",
       "      <td>NaN</td>\n",
       "      <td>12/07/2017 11:27:39 PM</td>\n",
       "      <td>12/08/2017 04:03:37 AM</td>\n",
       "      <td>0</td>\n",
       "      <td>BURGLARY</td>\n",
       "      <td>BURGLARY</td>\n",
       "      <td>100 BLK  TEACHERS WAY</td>\n",
       "      <td>GAITHERSBURG</td>\n",
       "      <td>...</td>\n",
       "      <td>419.0</td>\n",
       "      <td>78.0</td>\n",
       "      <td>99.0</td>\n",
       "      <td>121.0</td>\n",
       "      <td>16557.0</td>\n",
       "      <td>20.0</td>\n",
       "      <td>21.0</td>\n",
       "      <td>16436.0</td>\n",
       "      <td>ROBFIREARM-RESIDENTIAL</td>\n",
       "      <td>POINT (-77.193 39.1432)</td>\n",
       "    </tr>\n",
       "    <tr>\n",
       "      <th>1</th>\n",
       "      <td>P1700834957</td>\n",
       "      <td>170548471</td>\n",
       "      <td>NaN</td>\n",
       "      <td>12/14/2017 04:29:38 AM</td>\n",
       "      <td>12/14/2017 07:50:08 AM</td>\n",
       "      <td>1</td>\n",
       "      <td>DOMESTIC DISTURBANCE/VIOLENCE</td>\n",
       "      <td>DOMESTIC DISTURBANCE/VIOLENCE</td>\n",
       "      <td>12100 BLK  SIOUX PL</td>\n",
       "      <td>GAITHERSBURG</td>\n",
       "      <td>...</td>\n",
       "      <td>591.0</td>\n",
       "      <td>133.0</td>\n",
       "      <td>197.0</td>\n",
       "      <td>591.0</td>\n",
       "      <td>12029.0</td>\n",
       "      <td>64.0</td>\n",
       "      <td>394.0</td>\n",
       "      <td>11438.0</td>\n",
       "      <td>MENTALTRANSPORT</td>\n",
       "      <td>POINT (-77.2524 39.1284)</td>\n",
       "    </tr>\n",
       "    <tr>\n",
       "      <th>2</th>\n",
       "      <td>P1900298804</td>\n",
       "      <td>190043080</td>\n",
       "      <td>NaN</td>\n",
       "      <td>09/08/2019 08:55:02 PM</td>\n",
       "      <td>09/09/2019 05:13:44 AM</td>\n",
       "      <td>0</td>\n",
       "      <td>ROBBERY JUST OCCURRED</td>\n",
       "      <td>ROBBERY JUST OCCURRED</td>\n",
       "      <td>13700 BLK  CONNECTICUT AVE</td>\n",
       "      <td>SILVER SPRING</td>\n",
       "      <td>...</td>\n",
       "      <td>337.0</td>\n",
       "      <td>147.0</td>\n",
       "      <td>218.0</td>\n",
       "      <td>351.0</td>\n",
       "      <td>29921.0</td>\n",
       "      <td>71.0</td>\n",
       "      <td>132.0</td>\n",
       "      <td>29570.0</td>\n",
       "      <td>LARCNYSHOPLFTNG$50-$199</td>\n",
       "      <td>POINT (-77.0808 39.0789)</td>\n",
       "    </tr>\n",
       "  </tbody>\n",
       "</table>\n",
       "<p>3 rows × 26 columns</p>\n",
       "</div>"
      ],
      "text/plain": [
       "   Incident_ID Crime Reports Crash Reports              Start Time  \\\n",
       "0  P1700827460     170547273           NaN  12/07/2017 11:27:39 PM   \n",
       "1  P1700834957     170548471           NaN  12/14/2017 04:29:38 AM   \n",
       "2  P1900298804     190043080           NaN  09/08/2019 08:55:02 PM   \n",
       "\n",
       "                 End Time  Priority                   Initial Type  \\\n",
       "0  12/08/2017 04:03:37 AM         0                       BURGLARY   \n",
       "1  12/14/2017 07:50:08 AM         1  DOMESTIC DISTURBANCE/VIOLENCE   \n",
       "2  09/09/2019 05:13:44 AM         0          ROBBERY JUST OCCURRED   \n",
       "\n",
       "                      Close Type                     Address           City  \\\n",
       "0                       BURGLARY       100 BLK  TEACHERS WAY   GAITHERSBURG   \n",
       "1  DOMESTIC DISTURBANCE/VIOLENCE         12100 BLK  SIOUX PL   GAITHERSBURG   \n",
       "2          ROBBERY JUST OCCURRED  13700 BLK  CONNECTICUT AVE  SILVER SPRING   \n",
       "\n",
       "   ...    PRA CallTime CallRoute  Calltime Dispatch  Calltime Arrive  \\\n",
       "0  ...  419.0               78.0               99.0            121.0   \n",
       "1  ...  591.0              133.0              197.0            591.0   \n",
       "2  ...  337.0              147.0              218.0            351.0   \n",
       "\n",
       "  Calltime Cleared CallRoute Dispatch Dispatch Arrive  Arrive Cleared  \\\n",
       "0          16557.0               20.0            21.0         16436.0   \n",
       "1          12029.0               64.0           394.0         11438.0   \n",
       "2          29921.0               71.0           132.0         29570.0   \n",
       "\n",
       "          Disposition Desc                  Location  \n",
       "0   ROBFIREARM-RESIDENTIAL   POINT (-77.193 39.1432)  \n",
       "1          MENTALTRANSPORT  POINT (-77.2524 39.1284)  \n",
       "2  LARCNYSHOPLFTNG$50-$199  POINT (-77.0808 39.0789)  \n",
       "\n",
       "[3 rows x 26 columns]"
      ]
     },
     "execution_count": 17,
     "metadata": {},
     "output_type": "execute_result"
    }
   ],
   "source": [
    "dispatch.head(3)"
   ]
  },
  {
   "cell_type": "code",
   "execution_count": 19,
   "id": "ed8f3720-adbf-4b54-8dc1-d5896b1c6432",
   "metadata": {},
   "outputs": [
    {
     "data": {
      "text/plain": [
       "Index(['Incident ID', 'Offence Code', 'CR Number', 'Dispatch Date / Time',\n",
       "       'Start_Date_Time', 'End_Date_Time', 'NIBRS Code', 'Victims',\n",
       "       'Crime Name1', 'Crime Name2', 'Crime Name3', 'Police District Name',\n",
       "       'Block Address', 'City', 'State', 'Zip Code', 'Agency', 'Place',\n",
       "       'Sector', 'Beat', 'PRA', 'Address Number', 'Street Prefix',\n",
       "       'Street Name', 'Street Suffix', 'Street Type', 'Latitude', 'Longitude',\n",
       "       'Police District Number', 'Location'],\n",
       "      dtype='object')"
      ]
     },
     "execution_count": 19,
     "metadata": {},
     "output_type": "execute_result"
    }
   ],
   "source": [
    "crime.columns"
   ]
  },
  {
   "cell_type": "code",
   "execution_count": 21,
   "id": "0557986c-2de2-410c-a26f-79a34f0cadc0",
   "metadata": {},
   "outputs": [
    {
     "data": {
      "text/plain": [
       "Index(['Incident_ID', 'Crime Reports', 'Crash Reports', 'Start Time',\n",
       "       'End Time', 'Priority', 'Initial Type', 'Close Type', 'Address', 'City',\n",
       "       'State', 'Zip', 'Longitude', 'Latitude', 'Police District Number',\n",
       "       'Beat', 'PRA', 'CallTime CallRoute', 'Calltime Dispatch',\n",
       "       'Calltime Arrive', 'Calltime Cleared', 'CallRoute Dispatch',\n",
       "       'Dispatch Arrive', 'Arrive Cleared', 'Disposition Desc', 'Location'],\n",
       "      dtype='object')"
      ]
     },
     "execution_count": 21,
     "metadata": {},
     "output_type": "execute_result"
    }
   ],
   "source": [
    "dispatch.columns"
   ]
  },
  {
   "cell_type": "code",
   "execution_count": 23,
   "id": "0176f666-6f53-4c15-887c-95724b2732b6",
   "metadata": {},
   "outputs": [
    {
     "data": {
      "text/plain": [
       "Index(['GEO_ID', 'NAME', 'P1_001N', 'Unnamed: 3'], dtype='object')"
      ]
     },
     "execution_count": 23,
     "metadata": {},
     "output_type": "execute_result"
    }
   ],
   "source": [
    "census.columns"
   ]
  },
  {
   "cell_type": "markdown",
   "id": "68b6a536-0e7b-4360-bf04-90d7e7479d41",
   "metadata": {},
   "source": [
    "# Removing columns\n",
    "The Beats, PRA's and Police district names can be determined from the location data, which I can fit back on in Arc GIS. Identifying the mismatches would not necessarily make for interesting results after converations with dataMontgomery\n",
    "I am instead going to normalise incidents against census block data instead of either BEAT and PRA. \n",
    "Zip, state as well as other street identifiers are also not as relevant due to the existence of coordinate data. \n",
    "\n",
    "With regards to NIBRS codes, similar if not identical categories are represented in the crime name 2 column. \n",
    "\n",
    "In the case of Dispatch data the Calltimes have been removed as they will require methods I am not currently able to apply. "
   ]
  },
  {
   "cell_type": "code",
   "execution_count": 26,
   "id": "96a51db5-4235-493f-b38c-acf8a4af56d4",
   "metadata": {},
   "outputs": [],
   "source": [
    "crime.drop(['Incident ID','Block Address', 'City', 'State','Zip Code', 'Address Number', 'Street Prefix',\n",
    "       'Street Name', 'Street Suffix', 'Street Type','Location','Beat', 'PRA','Sector', 'NIBRS Code', 'Police District Name'], axis=1, inplace=True) "
   ]
  },
  {
   "cell_type": "code",
   "execution_count": 28,
   "id": "cc0eb32d-9de5-473b-ae7d-3d21a75e0888",
   "metadata": {},
   "outputs": [],
   "source": [
    "dispatch.drop(['Incident_ID','Crash Reports','Address','City', 'State', 'Zip', 'Location','Beat', 'PRA','Disposition Desc','CallTime CallRoute','Calltime Dispatch','Calltime Arrive','Calltime Arrive','Calltime Cleared','CallRoute Dispatch','Dispatch Arrive' ], axis=1, inplace=True) "
   ]
  },
  {
   "cell_type": "code",
   "execution_count": 30,
   "id": "5d2ffa38-bb5d-45c8-81a9-676dd661b668",
   "metadata": {},
   "outputs": [
    {
     "data": {
      "text/plain": [
       "Crime Reports             654675\n",
       "Start Time                     0\n",
       "End Time                       1\n",
       "Priority                       0\n",
       "Initial Type                   0\n",
       "Close Type                     0\n",
       "Longitude                     27\n",
       "Latitude                      27\n",
       "Police District Number         1\n",
       "CallTime CallRoute            41\n",
       "Calltime Dispatch          31638\n",
       "Calltime Arrive           180215\n",
       "Calltime Cleared             122\n",
       "CallRoute Dispatch         31634\n",
       "Dispatch Arrive           183233\n",
       "Arrive Cleared            180252\n",
       "dtype: int64"
      ]
     },
     "execution_count": 30,
     "metadata": {},
     "output_type": "execute_result"
    }
   ],
   "source": [
    "dispatch.isna().sum() "
   ]
  },
  {
   "cell_type": "code",
   "execution_count": 32,
   "id": "e4554a24-6789-43ce-8998-189bf2378694",
   "metadata": {},
   "outputs": [
    {
     "data": {
      "text/plain": [
       "Offence Code                   0\n",
       "CR Number                      0\n",
       "Dispatch Date / Time       46646\n",
       "Start_Date_Time                0\n",
       "End_Date_Time             162161\n",
       "NIBRS Code                     0\n",
       "Victims                        0\n",
       "Crime Name1                    0\n",
       "Crime Name2                    0\n",
       "Crime Name3                    0\n",
       "Police District Name         622\n",
       "Agency                         0\n",
       "Place                          0\n",
       "Latitude                       0\n",
       "Longitude                      0\n",
       "Police District Number         0\n",
       "dtype: int64"
      ]
     },
     "execution_count": 32,
     "metadata": {},
     "output_type": "execute_result"
    }
   ],
   "source": [
    "crime.isna().sum() "
   ]
  },
  {
   "cell_type": "code",
   "execution_count": 34,
   "id": "f67afe61-c1cd-4569-94ee-31b3bdeeb715",
   "metadata": {
    "scrolled": true
   },
   "outputs": [
    {
     "name": "stdout",
     "output_type": "stream",
     "text": [
      "Crime Reports              object\n",
      "Start Time                 object\n",
      "End Time                   object\n",
      "Priority                    int64\n",
      "Initial Type               object\n",
      "Close Type                 object\n",
      "Longitude                 float64\n",
      "Latitude                  float64\n",
      "Police District Number     object\n",
      "CallTime CallRoute        float64\n",
      "Calltime Dispatch         float64\n",
      "Calltime Arrive           float64\n",
      "Calltime Cleared          float64\n",
      "CallRoute Dispatch        float64\n",
      "Dispatch Arrive           float64\n",
      "Arrive Cleared            float64\n",
      "dtype: object\n"
     ]
    }
   ],
   "source": [
    "# Checking types\n",
    "print(dispatch.dtypes)"
   ]
  },
  {
   "cell_type": "code",
   "execution_count": 36,
   "id": "fdf3f16b-def5-46d2-9113-3b8aa1469a9c",
   "metadata": {},
   "outputs": [
    {
     "name": "stdout",
     "output_type": "stream",
     "text": [
      "Offence Code                int64\n",
      "CR Number                   int64\n",
      "Dispatch Date / Time       object\n",
      "Start_Date_Time            object\n",
      "End_Date_Time              object\n",
      "NIBRS Code                 object\n",
      "Victims                     int64\n",
      "Crime Name1                object\n",
      "Crime Name2                object\n",
      "Crime Name3                object\n",
      "Police District Name       object\n",
      "Agency                     object\n",
      "Place                      object\n",
      "Latitude                  float64\n",
      "Longitude                 float64\n",
      "Police District Number     object\n",
      "dtype: object\n"
     ]
    }
   ],
   "source": [
    "# Checking types\n",
    "print(crime.dtypes)"
   ]
  },
  {
   "cell_type": "code",
   "execution_count": 38,
   "id": "32b4ef25-25dc-4315-bb67-17bbd9c0c818",
   "metadata": {},
   "outputs": [
    {
     "name": "stdout",
     "output_type": "stream",
     "text": [
      "318012\n",
      "786255\n"
     ]
    }
   ],
   "source": [
    "count_crime_1 = len(crime)\n",
    "count_dispatch_1 = len(dispatch)\n",
    "print(count_crime_1)\n",
    "print(count_dispatch_1) "
   ]
  },
  {
   "cell_type": "code",
   "execution_count": 43,
   "id": "2dc662d2-026e-4c1d-991f-f3561fe66ec0",
   "metadata": {},
   "outputs": [],
   "source": [
    "dispatch.dropna(subset=['Longitude','Latitude',], inplace = True)\n",
    "crime.dropna(subset=['End_Date_Time','Longitude','Latitude'], inplace = True)"
   ]
  },
  {
   "cell_type": "markdown",
   "id": "74951e6d-9d2f-4556-a795-f73cc1c004c2",
   "metadata": {},
   "source": [
    "# Fixing time and removing all entries prior to 2018\n",
    "Both datasets are needlessly large and cover too much time and too many changes to internal reporting procedure. It is therefore essential to cut down the size of the dataset we are working with. "
   ]
  },
  {
   "cell_type": "code",
   "execution_count": 46,
   "id": "080530ea-5f77-4d7f-b10f-535b47ea7dee",
   "metadata": {},
   "outputs": [
    {
     "name": "stdout",
     "output_type": "stream",
     "text": [
      "done\n"
     ]
    }
   ],
   "source": [
    "# Reformatting all time and date columns\n",
    "crime['Dispatch Date / Time'] = pd.to_datetime(crime['Dispatch Date / Time'], format='%m/%d/%Y %I:%M:%S %p', errors='coerce')\n",
    "crime[\"Start_Date_Time\"] = pd.to_datetime(crime['Start_Date_Time'], format='%m/%d/%Y %I:%M:%S %p', errors='coerce')\n",
    "crime['End_Date_Time'] = pd.to_datetime(crime['End_Date_Time'], format='%m/%d/%Y %I:%M:%S %p', errors='coerce')\n",
    "\n",
    "dispatch['Start Time'] = pd.to_datetime(dispatch['Start Time'], format='%m/%d/%Y %I:%M:%S %p', errors='coerce')\n",
    "dispatch['End Time'] = pd.to_datetime(dispatch['End Time'], format='%m/%d/%Y %I:%M:%S %p', errors='coerce')\n",
    "print(\"done\")"
   ]
  },
  {
   "cell_type": "code",
   "execution_count": 48,
   "id": "99adb438-22e6-4f34-8c57-976665da3d2d",
   "metadata": {},
   "outputs": [
    {
     "name": "stdout",
     "output_type": "stream",
     "text": [
      "done\n"
     ]
    }
   ],
   "source": [
    "# Renaming for easy of use\n",
    "crime.rename(columns={\"Start_Date_Time\": 'Start_Time'}, inplace=True)\n",
    "crime.rename(columns={'Dispatch Date / Time': 'Dispatch_Time'}, inplace=True)\n",
    "crime.rename(columns={\"End_Date_Time\": 'End_Time'}, inplace=True)\n",
    "dispatch.rename(columns={'Start Time': 'Start_Time'}, inplace=True)\n",
    "dispatch.rename(columns={'End Time': 'End_Time'}, inplace=True)\n",
    "dispatch.rename(columns={'Inital Type': 'Inital_Type'}, inplace=True)\n",
    "dispatch.rename(columns={'End Time': 'End_Time'}, inplace=True)\n",
    "print(\"done\")"
   ]
  },
  {
   "cell_type": "code",
   "execution_count": 50,
   "id": "9d7c4ca1-24d1-4718-953d-54fbefec4f25",
   "metadata": {},
   "outputs": [
    {
     "name": "stdout",
     "output_type": "stream",
     "text": [
      "done\n"
     ]
    }
   ],
   "source": [
    "crime = crime[crime['Start_Time'] >= datetime(2018, 1, 1)]\n",
    "dispatch = dispatch[dispatch['Start_Time'] >= datetime(2018, 1, 1)]\n",
    "print(\"done\")"
   ]
  },
  {
   "cell_type": "code",
   "execution_count": 52,
   "id": "a370df46-19dd-4fdc-b627-a56122773aa5",
   "metadata": {},
   "outputs": [
    {
     "name": "stdout",
     "output_type": "stream",
     "text": [
      "120689\n",
      "637684\n"
     ]
    }
   ],
   "source": [
    "count_crime_2 = len(crime)\n",
    "count_dispatch_2 = len(dispatch)\n",
    "print(count_crime_2)\n",
    "print(count_dispatch_2) "
   ]
  },
  {
   "cell_type": "markdown",
   "id": "baeec352-1b39-4a91-b3bb-aa0bff85bde7",
   "metadata": {},
   "source": [
    "# Fixing location point data for easier use in ARC GIS \n",
    "This is much easier to do in while the datasets are seperate"
   ]
  },
  {
   "cell_type": "code",
   "execution_count": 55,
   "id": "26ec184f-c393-4480-94cb-12cb55908c77",
   "metadata": {},
   "outputs": [
    {
     "name": "stderr",
     "output_type": "stream",
     "text": [
      "/var/folders/vt/8zqwv5_51777lk_0p42g3sdr0000gn/T/ipykernel_16546/2176454166.py:1: SettingWithCopyWarning: \n",
      "A value is trying to be set on a copy of a slice from a DataFrame.\n",
      "Try using .loc[row_indexer,col_indexer] = value instead\n",
      "\n",
      "See the caveats in the documentation: https://pandas.pydata.org/pandas-docs/stable/user_guide/indexing.html#returning-a-view-versus-a-copy\n",
      "  crime['WKT'] = crime.apply(lambda row: f\"POINT ({row['Longitude']} {row['Latitude']})\", axis=1)\n"
     ]
    },
    {
     "name": "stdout",
     "output_type": "stream",
     "text": [
      "done\n"
     ]
    }
   ],
   "source": [
    "crime['WKT'] = crime.apply(lambda row: f\"POINT ({row['Longitude']} {row['Latitude']})\", axis=1)\n",
    "dispatch['WKT'] = dispatch.apply(lambda row: f\"POINT ({row['Longitude']} {row['Latitude']})\", axis=1)\n",
    "print(\"done\")"
   ]
  },
  {
   "cell_type": "code",
   "execution_count": 137,
   "id": "19a1c9b2-f70f-4220-aa2b-738104883bc6",
   "metadata": {},
   "outputs": [
    {
     "data": {
      "text/plain": [
       "ID                        110202\n",
       "Start_Time                635731\n",
       "End_Time                  635701\n",
       "Priority                       5\n",
       "Initial Type                 219\n",
       "Close Type                   216\n",
       "Longitude                  15134\n",
       "Latitude                   34367\n",
       "Police District Number         9\n",
       "CallTime CallRoute          1943\n",
       "Calltime Dispatch          11219\n",
       "Calltime Arrive            10865\n",
       "Calltime Cleared           20829\n",
       "CallRoute Dispatch         11037\n",
       "Dispatch Arrive             7123\n",
       "Arrive Cleared             17569\n",
       "WKT                        64818\n",
       "dtype: int64"
      ]
     },
     "execution_count": 137,
     "metadata": {},
     "output_type": "execute_result"
    }
   ],
   "source": [
    "dispatch.nunique()"
   ]
  },
  {
   "cell_type": "code",
   "execution_count": 103,
   "id": "28854b5f-4bc7-41cc-9733-bb87dcb0da08",
   "metadata": {},
   "outputs": [
    {
     "name": "stdout",
     "output_type": "stream",
     "text": [
      "['RCPD' 'MCPD' 'GPD' 'TPPD' 'MCSO' 'MCFM' 'OTHR']\n"
     ]
    }
   ],
   "source": [
    "print(crime['Agency'].unique())"
   ]
  },
  {
   "cell_type": "code",
   "execution_count": 105,
   "id": "a0c624d6-20f5-46ad-bde8-35e3a83b9fb0",
   "metadata": {},
   "outputs": [
    {
     "name": "stdout",
     "output_type": "stream",
     "text": [
      "['Crime Against Property' 'Crime Against Society' 'Crime Against Person'\n",
      " 'Crime Against Not a Crime' 'Crime Against Person, Property, or Society']\n"
     ]
    }
   ],
   "source": [
    "print(crime['Crime Name1'].unique())"
   ]
  },
  {
   "cell_type": "code",
   "execution_count": 115,
   "id": "c4def9a5-b97a-4e41-8539-538899a8b9d5",
   "metadata": {},
   "outputs": [
    {
     "name": "stdout",
     "output_type": "stream",
     "text": [
      "['ROCKVILLE' 'BETHESDA' nan 'SILVER SPRING' 'MONTGOMERY VILLAGE' 'WHEATON'\n",
      " 'GERMANTOWN' 'TAKOMA PARK' 'OTHER']\n"
     ]
    }
   ],
   "source": [
    "print(crime['Police District Name'].unique())"
   ]
  },
  {
   "cell_type": "code",
   "execution_count": 133,
   "id": "ff5107ce-00bc-4bd8-a2e4-b703b619c93d",
   "metadata": {},
   "outputs": [
    {
     "name": "stdout",
     "output_type": "stream",
     "text": [
      "They're different.\n",
      "only in Close Type  {'TC - TRAFFIC COLLISION ON PATROL', 'ATT - ATTACHMENT ON PATROL', 'RAPEJA', '10 SIGNAL ALARM', 'ALARMT'}\n",
      "Only in Initial Type {'SUM - SUMMONS SERVICE', 'RAPEA', 'OVERDOSE - VIA FRS - OCCURRED EARLIER', 'TRE - TRESP ON PATROL', 'WR - WRITING REPORT', 'ALARMF - FARS', 'HUNTO - HUNTING OCCURRED EARLIER - ILLEGAL - OCCURRED EARLIER', 'REFERRED TO OAS'}\n"
     ]
    }
   ],
   "source": [
    "set1 = set(dispatch['Close Type'])\n",
    "set2 = set(dispatch['Initial Type'])\n",
    "\n",
    "if set1 == set2:\n",
    "    print(\"same.\")\n",
    "else:\n",
    "    print(\"They're different.\")\n",
    "    print(\"only in Close Type \", set1 - set2)\n",
    "    print(\"Only in Initial Type\", set2 - set1)"
   ]
  },
  {
   "cell_type": "code",
   "execution_count": 135,
   "id": "9384c8d6-3863-4d8c-ad60-d33b3fea4d19",
   "metadata": {},
   "outputs": [
    {
     "name": "stdout",
     "output_type": "stream",
     "text": [
      "16853\n"
     ]
    }
   ],
   "source": [
    "incongruence = dispatch[dispatch['Close Type'] != dispatch['Initial Type']]\n",
    "print(incongruence.shape[0])"
   ]
  },
  {
   "cell_type": "code",
   "execution_count": 113,
   "id": "aaf166ea-94e2-4752-9947-d9727f786361",
   "metadata": {},
   "outputs": [],
   "source": [
    "# Category mapping for places in the crime dataset\n",
    "# If I am to one hot encode places for machine learning purposes, then they have to be simplified \n",
    "\n",
    "place_map = {\n",
    "    \n",
    "    'Cyberspace': 'Other',\n",
    "    'Other/Unknown': 'Other',\n",
    "\n",
    "    'Hotel/Motel/Etc.': 'Hospitality',\n",
    "    'Restaurant': 'Hospitality',\n",
    "    'Bar/Night Club': 'Hospitality',\n",
    "\n",
    "    'Hospital/Emergency Care Center': 'Medical Facility',\n",
    "    'Doctor/Dentist/Vet Office': 'Medical Facility',\n",
    "\n",
    "    'Residence - Driveway': 'Residential Areas',\n",
    "    'School - Elementary/Secondary': 'Educational Facilities',\n",
    "\n",
    "    'Commercial - Industrial Park': 'Commercial Area',\n",
    "    'Commercial - Office Building': 'Commercial Area',\n",
    "    'Auto Dealership': 'Commercial Area',\n",
    "    'Auto Repair': 'Commercial Area',\n",
    "    'Construction Site': 'Commercial Area',\n",
    "    'Industrial Site': 'Commercial Area',\n",
    "    'Rental Storage Facility': 'Commercial Area',\n",
    "    'Farm Facility': 'Commercial Area',\n",
    "    'Dock/Wharf/Freight/Modal Terminal': 'Commercial Area',\n",
    "    'Abandoned/Condemned Structures': 'Abandoned Structure',\n",
    "\n",
    "    'Library': 'Public Space',\n",
    "    'Church/Synagogue/Temple': 'Public Space',\n",
    "    'Community Center': 'Public Space',\n",
    "    'Recreation Center': 'Public Space',\n",
    "    'Shelter-Mission/Homeless': 'Public Space',\n",
    "    'Field/Open Space': 'Public Space',\n",
    "    'Arena/Stadium/Fairgrounds/Coliseum': 'Public Space',\n",
    "    'Golf Course': 'Public Space',\n",
    "    'Lake/Waterway': 'Public Space',\n",
    "    'Amusement Park': 'Public Space',\n",
    "    'Pool': 'Public Space',\n",
    "    'Theater': 'Public Space',\n",
    "\n",
    "    'Government Building': 'Government Building',\n",
    "\n",
    "    'Rest Area': 'Park or Rest Area',\n",
    "    'Park': 'Park or Rest Area',\n",
    "\n",
    "    'Parking Lot - Residential': 'Parking Lot',\n",
    "    'Parking Garage - Residential': 'Parking Lot',\n",
    "    'Parking Lot - Commercial': 'Parking Lot',\n",
    "    'Parking Garage - Commercial': 'Parking Lot',\n",
    "    'Parking Lot - Other': 'Parking Lot',\n",
    "    'Parking Lot - Metro': 'Parking Lot',\n",
    "    'Parking Lot - Park & Ride': 'Parking Lot',\n",
    "    'Parking Garage - Metro': 'Parking Lot',\n",
    "    'Parking Garage - County': 'Parking Lot',\n",
    "    'Parking Garage - Other': 'Parking Lot',\n",
    "    'Parking Lot - School': 'Parking Lot',\n",
    "    'Parking Lot - Rec Center': 'Parking Lot',\n",
    "    'Parking Lot - Church': 'Parking Lot',\n",
    "    'Parking Lot - County': 'Parking Lot',\n",
    "\n",
    "    'Street - Alley': 'Street',\n",
    "    'Street - Other': 'Street',\n",
    "    'Street - In vehicle': 'Street',\n",
    "    'Street - Residential': 'Street',\n",
    "    'Street - Commercial': 'Street',\n",
    "\n",
    "    'Air/Bus/Train/Metro Terminal': 'Public Transit Area',\n",
    "    'Street - Bus Stop': 'Public Transit Area',\n",
    "    'Pedestrian Tunnel': 'Public Transit Area',\n",
    "\n",
    "    'Grocery/Supermarket': 'Retail',\n",
    "    'Gas Station': 'Retail',\n",
    "    'Retail - Department/Discount Store': 'Retail',\n",
    "    'Retail - Drug Store/Pharmacy': 'Retail',\n",
    "    'Retail - Clothing': 'Retail',\n",
    "    'Retail - Hardware': 'Retail',\n",
    "    'Retail - Appliances/Electronics': 'Retail',\n",
    "    'Retail - Mall': 'Retail',\n",
    "    'Convenience Store': 'Retail',\n",
    "    'Retail - Jewelry': 'Retail',\n",
    "    'Retail - Sporting Goods': 'Retail',\n",
    "    'Retail - Salon/Spa': 'Retail',\n",
    "    'Retail - Beauty/Barber Shop': 'Retail',\n",
    "    'Retail - Dry Cleaner': 'Retail',\n",
    "    'Retail - Video Store': 'Retail',\n",
    "    'Pawn Shop': 'Retail',\n",
    "    'Check Cashing Est.': 'Retail',\n",
    "\n",
    "    'Liquor Store - Beer & Wine': 'Liquor Store',\n",
    "    'Liquor Store - County': 'Liquor Store',\n",
    "\n",
    "    'School - Elementary/Secondary': 'School/Childcare',\n",
    "    'School - College/University': 'School/Childcare',\n",
    "    'Daycare Facility': 'School/Childcare',\n",
    "    'Nursery': 'School/Childcare',\n",
    "\n",
    "    'Residence - Driveway': 'Residence',\n",
    "    'Residence - Single Family': 'Residence',\n",
    "    'Residence - Apartment/Condo': 'Residence',\n",
    "    'Residence - Townhouse/Duplex': 'Residence',\n",
    "    'Residence - Carport': 'Residence',\n",
    "    'Residence - Garage': 'Residence',\n",
    "    'Residence - Nursing Home': 'Residence',\n",
    "    'Residence - Shed': 'Residence',\n",
    "    'Residence - Yard': 'Residence',\n",
    "    'Residence - Other': 'Residence',\n",
    "    'Residence - Apt Ofc/Storage': 'Residence',\n",
    "    'Residence - Mobile Home': 'Residence',\n",
    "}\n",
    "\n",
    "crime['Place'] = crime['Place'].map(place_map)\n"
   ]
  },
  {
   "cell_type": "code",
   "execution_count": 117,
   "id": "147f41cf-4785-4c66-99c9-ff24a39deb9c",
   "metadata": {},
   "outputs": [
    {
     "data": {
      "text/html": [
       "<div>\n",
       "<style scoped>\n",
       "    .dataframe tbody tr th:only-of-type {\n",
       "        vertical-align: middle;\n",
       "    }\n",
       "\n",
       "    .dataframe tbody tr th {\n",
       "        vertical-align: top;\n",
       "    }\n",
       "\n",
       "    .dataframe thead th {\n",
       "        text-align: right;\n",
       "    }\n",
       "</style>\n",
       "<table border=\"1\" class=\"dataframe\">\n",
       "  <thead>\n",
       "    <tr style=\"text-align: right;\">\n",
       "      <th></th>\n",
       "      <th>Offence Code</th>\n",
       "      <th>ID</th>\n",
       "      <th>Dispatch_Time</th>\n",
       "      <th>Start_Time</th>\n",
       "      <th>End_Time</th>\n",
       "      <th>NIBRS Code</th>\n",
       "      <th>Victims</th>\n",
       "      <th>Crime Name1</th>\n",
       "      <th>Crime Name2</th>\n",
       "      <th>Crime Name3</th>\n",
       "      <th>Police District Name</th>\n",
       "      <th>Agency</th>\n",
       "      <th>Place</th>\n",
       "      <th>Latitude</th>\n",
       "      <th>Longitude</th>\n",
       "      <th>Police District Number</th>\n",
       "      <th>WKT</th>\n",
       "    </tr>\n",
       "  </thead>\n",
       "  <tbody>\n",
       "    <tr>\n",
       "      <th>2</th>\n",
       "      <td>2304</td>\n",
       "      <td>220001336</td>\n",
       "      <td>2022-01-12 02:53:25</td>\n",
       "      <td>2022-01-12 02:53:00</td>\n",
       "      <td>2022-01-12 03:00:00</td>\n",
       "      <td>23G</td>\n",
       "      <td>1</td>\n",
       "      <td>Crime Against Property</td>\n",
       "      <td>Theft of Motor Vehicle Parts or Accessories</td>\n",
       "      <td>LARCENY - AUTO PARTS</td>\n",
       "      <td>ROCKVILLE</td>\n",
       "      <td>RCPD</td>\n",
       "      <td>Residence</td>\n",
       "      <td>39.08126</td>\n",
       "      <td>-77.1205</td>\n",
       "      <td>1D</td>\n",
       "      <td>POINT (-77.1205 39.08126)</td>\n",
       "    </tr>\n",
       "    <tr>\n",
       "      <th>3</th>\n",
       "      <td>1602</td>\n",
       "      <td>240023111</td>\n",
       "      <td>2024-05-16 11:25:24</td>\n",
       "      <td>2024-05-16 11:23:00</td>\n",
       "      <td>2024-05-16 14:30:00</td>\n",
       "      <td>90Z</td>\n",
       "      <td>1</td>\n",
       "      <td>Crime Against Society</td>\n",
       "      <td>All Other Offenses</td>\n",
       "      <td>THREAT - TERRORISTIC - STATE OFFENSES</td>\n",
       "      <td>BETHESDA</td>\n",
       "      <td>MCPD</td>\n",
       "      <td>School/Childcare</td>\n",
       "      <td>0.00000</td>\n",
       "      <td>0.0000</td>\n",
       "      <td>2D</td>\n",
       "      <td>POINT (0.0 0.0)</td>\n",
       "    </tr>\n",
       "    <tr>\n",
       "      <th>6</th>\n",
       "      <td>3562</td>\n",
       "      <td>220001908</td>\n",
       "      <td>2022-01-15 22:48:27</td>\n",
       "      <td>2022-01-15 22:50:00</td>\n",
       "      <td>2022-01-15 00:00:00</td>\n",
       "      <td>35A</td>\n",
       "      <td>1</td>\n",
       "      <td>Crime Against Society</td>\n",
       "      <td>Drug/Narcotic Violations</td>\n",
       "      <td>DRUGS - MARIJUANA - POSSESS</td>\n",
       "      <td>ROCKVILLE</td>\n",
       "      <td>RCPD</td>\n",
       "      <td>Street</td>\n",
       "      <td>39.07219</td>\n",
       "      <td>-77.1332</td>\n",
       "      <td>1D</td>\n",
       "      <td>POINT (-77.1332 39.07219)</td>\n",
       "    </tr>\n",
       "    <tr>\n",
       "      <th>15</th>\n",
       "      <td>2304</td>\n",
       "      <td>220022392</td>\n",
       "      <td>2022-05-25 17:29:23</td>\n",
       "      <td>2022-05-16 15:00:00</td>\n",
       "      <td>2022-05-21 09:30:00</td>\n",
       "      <td>23G</td>\n",
       "      <td>1</td>\n",
       "      <td>Crime Against Property</td>\n",
       "      <td>Theft of Motor Vehicle Parts or Accessories</td>\n",
       "      <td>LARCENY - AUTO PARTS</td>\n",
       "      <td>NaN</td>\n",
       "      <td>MCPD</td>\n",
       "      <td>Residence</td>\n",
       "      <td>0.00000</td>\n",
       "      <td>0.0000</td>\n",
       "      <td>Unknown</td>\n",
       "      <td>POINT (0.0 0.0)</td>\n",
       "    </tr>\n",
       "    <tr>\n",
       "      <th>17</th>\n",
       "      <td>2308</td>\n",
       "      <td>210026590</td>\n",
       "      <td>2021-07-10 20:42:35</td>\n",
       "      <td>2021-07-10 18:00:00</td>\n",
       "      <td>2021-07-10 18:40:00</td>\n",
       "      <td>23D</td>\n",
       "      <td>1</td>\n",
       "      <td>Crime Against Property</td>\n",
       "      <td>Theft from Building</td>\n",
       "      <td>LARCENY - FROM BLDG</td>\n",
       "      <td>BETHESDA</td>\n",
       "      <td>MCPD</td>\n",
       "      <td>Retail</td>\n",
       "      <td>38.96184</td>\n",
       "      <td>-77.0862</td>\n",
       "      <td>2D</td>\n",
       "      <td>POINT (-77.0862 38.96184)</td>\n",
       "    </tr>\n",
       "    <tr>\n",
       "      <th>18</th>\n",
       "      <td>2305</td>\n",
       "      <td>220009661</td>\n",
       "      <td>2022-03-06 12:08:40</td>\n",
       "      <td>2022-03-05 19:30:00</td>\n",
       "      <td>2022-03-06 12:00:00</td>\n",
       "      <td>23F</td>\n",
       "      <td>1</td>\n",
       "      <td>Crime Against Property</td>\n",
       "      <td>Theft From Motor Vehicle</td>\n",
       "      <td>LARCENY - FROM AUTO</td>\n",
       "      <td>BETHESDA</td>\n",
       "      <td>MCPD</td>\n",
       "      <td>Street</td>\n",
       "      <td>39.02428</td>\n",
       "      <td>-77.1027</td>\n",
       "      <td>2D</td>\n",
       "      <td>POINT (-77.1027 39.02428)</td>\n",
       "    </tr>\n",
       "    <tr>\n",
       "      <th>19</th>\n",
       "      <td>2404</td>\n",
       "      <td>220001959</td>\n",
       "      <td>2022-01-16 12:00:09</td>\n",
       "      <td>2022-01-16 03:00:00</td>\n",
       "      <td>2022-01-16 00:00:00</td>\n",
       "      <td>240</td>\n",
       "      <td>1</td>\n",
       "      <td>Crime Against Property</td>\n",
       "      <td>Motor Vehicle Theft</td>\n",
       "      <td>AUTO THEFT - VEHICLE THEFT</td>\n",
       "      <td>BETHESDA</td>\n",
       "      <td>MCPD</td>\n",
       "      <td>Parking Lot</td>\n",
       "      <td>38.99453</td>\n",
       "      <td>-77.0363</td>\n",
       "      <td>2D</td>\n",
       "      <td>POINT (-77.0363 38.99453)</td>\n",
       "    </tr>\n",
       "    <tr>\n",
       "      <th>26</th>\n",
       "      <td>2305</td>\n",
       "      <td>240014942</td>\n",
       "      <td>2024-03-30 15:29:13</td>\n",
       "      <td>2024-03-30 07:30:00</td>\n",
       "      <td>2024-03-30 09:30:00</td>\n",
       "      <td>23F</td>\n",
       "      <td>1</td>\n",
       "      <td>Crime Against Property</td>\n",
       "      <td>Theft From Motor Vehicle</td>\n",
       "      <td>LARCENY - FROM AUTO</td>\n",
       "      <td>ROCKVILLE</td>\n",
       "      <td>MCPD</td>\n",
       "      <td>Street</td>\n",
       "      <td>39.11521</td>\n",
       "      <td>-77.1786</td>\n",
       "      <td>1D</td>\n",
       "      <td>POINT (-77.1786 39.11521)</td>\n",
       "    </tr>\n",
       "    <tr>\n",
       "      <th>29</th>\n",
       "      <td>2404</td>\n",
       "      <td>230005778</td>\n",
       "      <td>2023-02-04 17:18:17</td>\n",
       "      <td>2023-02-03 21:00:00</td>\n",
       "      <td>2023-02-04 15:30:00</td>\n",
       "      <td>240</td>\n",
       "      <td>1</td>\n",
       "      <td>Crime Against Property</td>\n",
       "      <td>Motor Vehicle Theft</td>\n",
       "      <td>AUTO THEFT - VEHICLE THEFT</td>\n",
       "      <td>SILVER SPRING</td>\n",
       "      <td>MCPD</td>\n",
       "      <td>Parking Lot</td>\n",
       "      <td>39.01519</td>\n",
       "      <td>-76.9768</td>\n",
       "      <td>3D</td>\n",
       "      <td>POINT (-76.9768 39.01519)</td>\n",
       "    </tr>\n",
       "    <tr>\n",
       "      <th>30</th>\n",
       "      <td>2399</td>\n",
       "      <td>220018396</td>\n",
       "      <td>2022-04-30 15:26:00</td>\n",
       "      <td>2022-04-30 13:20:00</td>\n",
       "      <td>2022-04-30 13:25:00</td>\n",
       "      <td>23H</td>\n",
       "      <td>1</td>\n",
       "      <td>Crime Against Property</td>\n",
       "      <td>All other Larceny</td>\n",
       "      <td>LARCENY (DESCRIBE OFFENSE)</td>\n",
       "      <td>MONTGOMERY VILLAGE</td>\n",
       "      <td>GPD</td>\n",
       "      <td>Retail</td>\n",
       "      <td>39.14588</td>\n",
       "      <td>-77.2199</td>\n",
       "      <td>6D</td>\n",
       "      <td>POINT (-77.2199 39.14588)</td>\n",
       "    </tr>\n",
       "  </tbody>\n",
       "</table>\n",
       "</div>"
      ],
      "text/plain": [
       "    Offence Code         ID       Dispatch_Time          Start_Time  \\\n",
       "2           2304  220001336 2022-01-12 02:53:25 2022-01-12 02:53:00   \n",
       "3           1602  240023111 2024-05-16 11:25:24 2024-05-16 11:23:00   \n",
       "6           3562  220001908 2022-01-15 22:48:27 2022-01-15 22:50:00   \n",
       "15          2304  220022392 2022-05-25 17:29:23 2022-05-16 15:00:00   \n",
       "17          2308  210026590 2021-07-10 20:42:35 2021-07-10 18:00:00   \n",
       "18          2305  220009661 2022-03-06 12:08:40 2022-03-05 19:30:00   \n",
       "19          2404  220001959 2022-01-16 12:00:09 2022-01-16 03:00:00   \n",
       "26          2305  240014942 2024-03-30 15:29:13 2024-03-30 07:30:00   \n",
       "29          2404  230005778 2023-02-04 17:18:17 2023-02-03 21:00:00   \n",
       "30          2399  220018396 2022-04-30 15:26:00 2022-04-30 13:20:00   \n",
       "\n",
       "              End_Time NIBRS Code  Victims             Crime Name1  \\\n",
       "2  2022-01-12 03:00:00        23G        1  Crime Against Property   \n",
       "3  2024-05-16 14:30:00        90Z        1   Crime Against Society   \n",
       "6  2022-01-15 00:00:00        35A        1   Crime Against Society   \n",
       "15 2022-05-21 09:30:00        23G        1  Crime Against Property   \n",
       "17 2021-07-10 18:40:00        23D        1  Crime Against Property   \n",
       "18 2022-03-06 12:00:00        23F        1  Crime Against Property   \n",
       "19 2022-01-16 00:00:00        240        1  Crime Against Property   \n",
       "26 2024-03-30 09:30:00        23F        1  Crime Against Property   \n",
       "29 2023-02-04 15:30:00        240        1  Crime Against Property   \n",
       "30 2022-04-30 13:25:00        23H        1  Crime Against Property   \n",
       "\n",
       "                                    Crime Name2  \\\n",
       "2   Theft of Motor Vehicle Parts or Accessories   \n",
       "3                            All Other Offenses   \n",
       "6                      Drug/Narcotic Violations   \n",
       "15  Theft of Motor Vehicle Parts or Accessories   \n",
       "17                          Theft from Building   \n",
       "18                     Theft From Motor Vehicle   \n",
       "19                          Motor Vehicle Theft   \n",
       "26                     Theft From Motor Vehicle   \n",
       "29                          Motor Vehicle Theft   \n",
       "30                            All other Larceny   \n",
       "\n",
       "                              Crime Name3 Police District Name Agency  \\\n",
       "2                    LARCENY - AUTO PARTS            ROCKVILLE   RCPD   \n",
       "3   THREAT - TERRORISTIC - STATE OFFENSES             BETHESDA   MCPD   \n",
       "6             DRUGS - MARIJUANA - POSSESS            ROCKVILLE   RCPD   \n",
       "15                   LARCENY - AUTO PARTS                  NaN   MCPD   \n",
       "17                    LARCENY - FROM BLDG             BETHESDA   MCPD   \n",
       "18                    LARCENY - FROM AUTO             BETHESDA   MCPD   \n",
       "19             AUTO THEFT - VEHICLE THEFT             BETHESDA   MCPD   \n",
       "26                    LARCENY - FROM AUTO            ROCKVILLE   MCPD   \n",
       "29             AUTO THEFT - VEHICLE THEFT        SILVER SPRING   MCPD   \n",
       "30             LARCENY (DESCRIBE OFFENSE)   MONTGOMERY VILLAGE    GPD   \n",
       "\n",
       "               Place  Latitude  Longitude Police District Number  \\\n",
       "2          Residence  39.08126   -77.1205                     1D   \n",
       "3   School/Childcare   0.00000     0.0000                     2D   \n",
       "6             Street  39.07219   -77.1332                     1D   \n",
       "15         Residence   0.00000     0.0000                Unknown   \n",
       "17            Retail  38.96184   -77.0862                     2D   \n",
       "18            Street  39.02428   -77.1027                     2D   \n",
       "19       Parking Lot  38.99453   -77.0363                     2D   \n",
       "26            Street  39.11521   -77.1786                     1D   \n",
       "29       Parking Lot  39.01519   -76.9768                     3D   \n",
       "30            Retail  39.14588   -77.2199                     6D   \n",
       "\n",
       "                          WKT  \n",
       "2   POINT (-77.1205 39.08126)  \n",
       "3             POINT (0.0 0.0)  \n",
       "6   POINT (-77.1332 39.07219)  \n",
       "15            POINT (0.0 0.0)  \n",
       "17  POINT (-77.0862 38.96184)  \n",
       "18  POINT (-77.1027 39.02428)  \n",
       "19  POINT (-77.0363 38.99453)  \n",
       "26  POINT (-77.1786 39.11521)  \n",
       "29  POINT (-76.9768 39.01519)  \n",
       "30  POINT (-77.2199 39.14588)  "
      ]
     },
     "execution_count": 117,
     "metadata": {},
     "output_type": "execute_result"
    }
   ],
   "source": [
    "crime.head(10)"
   ]
  },
  {
   "cell_type": "code",
   "execution_count": 72,
   "id": "f2096d18-b288-439c-a077-c4f0b654e57a",
   "metadata": {},
   "outputs": [
    {
     "data": {
      "text/plain": [
       "ID                             0\n",
       "Start_Time                     0\n",
       "End_Time                       1\n",
       "Priority                       0\n",
       "Initial Type                   0\n",
       "Close Type                     0\n",
       "Longitude                      0\n",
       "Latitude                       0\n",
       "Police District Number         0\n",
       "CallTime CallRoute             0\n",
       "Calltime Dispatch          25192\n",
       "Calltime Arrive           148340\n",
       "Calltime Cleared              73\n",
       "CallRoute Dispatch         25194\n",
       "Dispatch Arrive           151363\n",
       "Arrive Cleared            148374\n",
       "WKT                            0\n",
       "dtype: int64"
      ]
     },
     "execution_count": 72,
     "metadata": {},
     "output_type": "execute_result"
    }
   ],
   "source": [
    "dispatch.isna().sum() "
   ]
  },
  {
   "cell_type": "code",
   "execution_count": 70,
   "id": "cda27818-2c1f-4ee7-a871-ff28f40bfad9",
   "metadata": {},
   "outputs": [
    {
     "data": {
      "text/plain": [
       "Offence Code                 0\n",
       "ID                           0\n",
       "Dispatch_Time             5630\n",
       "Start_Time                   0\n",
       "End_Time                     0\n",
       "NIBRS Code                   0\n",
       "Victims                      0\n",
       "Crime Name1                  0\n",
       "Crime Name2                  0\n",
       "Crime Name3                  0\n",
       "Police District Name       272\n",
       "Agency                       0\n",
       "Place                        0\n",
       "Latitude                     0\n",
       "Longitude                    0\n",
       "Police District Number       0\n",
       "WKT                          0\n",
       "dtype: int64"
      ]
     },
     "execution_count": 70,
     "metadata": {},
     "output_type": "execute_result"
    }
   ],
   "source": [
    "crime.isna().sum() "
   ]
  },
  {
   "cell_type": "markdown",
   "id": "61767953-2d0e-4c7a-9961-e88dac556bae",
   "metadata": {},
   "source": [
    "# Joining the datasets: \n",
    "Here joining the crime and dispatch datasets, keeping all\n",
    "This is done by first fixing the names of the ID column which in the crime dataset is called CR number and in the dispatch dataset is called crime reports"
   ]
  },
  {
   "cell_type": "code",
   "execution_count": 62,
   "id": "9ad464b4-3e27-4710-8c8b-326df4133d7f",
   "metadata": {},
   "outputs": [
    {
     "name": "stderr",
     "output_type": "stream",
     "text": [
      "/var/folders/vt/8zqwv5_51777lk_0p42g3sdr0000gn/T/ipykernel_16546/1865778167.py:1: SettingWithCopyWarning: \n",
      "A value is trying to be set on a copy of a slice from a DataFrame\n",
      "\n",
      "See the caveats in the documentation: https://pandas.pydata.org/pandas-docs/stable/user_guide/indexing.html#returning-a-view-versus-a-copy\n",
      "  crime.rename(columns={'CR Number': 'ID'}, inplace=True)\n"
     ]
    }
   ],
   "source": [
    "crime.rename(columns={'CR Number': 'ID'}, inplace=True)\n",
    "dispatch.rename(columns={'Crime Reports': 'ID'}, inplace=True)"
   ]
  },
  {
   "cell_type": "code",
   "execution_count": 64,
   "id": "22f021ef-f7cd-4bca-a104-78a6ef22947b",
   "metadata": {},
   "outputs": [],
   "source": [
    "dispatch['ID'] = pd.to_numeric(dispatch['ID'], errors='coerce').fillna(0).astype(int)"
   ]
  },
  {
   "cell_type": "code",
   "execution_count": 66,
   "id": "1522e7b4-99e1-4279-907f-e2f5f020eddc",
   "metadata": {},
   "outputs": [],
   "source": [
    "incidents = pd.merge(crime, dispatch, on='ID', how='outer', suffixes=('_crime', '_dispatch'))"
   ]
  },
  {
   "cell_type": "code",
   "execution_count": 142,
   "id": "73d17f0f-c3eb-4238-ba7e-42a2f283f1ea",
   "metadata": {},
   "outputs": [
    {
     "data": {
      "text/plain": [
       "Offence Code                       557003\n",
       "ID                                      0\n",
       "Dispatch_Time                      569750\n",
       "Start_Time_crime                   557003\n",
       "End_Time_crime                     689243\n",
       "NIBRS Code                         557003\n",
       "Victims                            557003\n",
       "Crime Name1                        557003\n",
       "Crime Name2                        557003\n",
       "Crime Name3                        557003\n",
       "Police District Name               557599\n",
       "Agency                             557003\n",
       "Place                              557003\n",
       "Sector                             557003\n",
       "Beat_crime                         557003\n",
       "PRA_crime                          557004\n",
       "Latitude_crime                     557003\n",
       "Longitude_crime                    557003\n",
       "Police District Number_crime       557003\n",
       "WKT_crime                          557003\n",
       "Start_Time_dispatch                164636\n",
       "End_Time_dispatch                  164637\n",
       "Priority                           164636\n",
       "Initial Type                       164636\n",
       "Close Type                         164636\n",
       "Longitude_dispatch                 164642\n",
       "Latitude_dispatch                  164642\n",
       "Police District Number_dispatch    164636\n",
       "Beat_dispatch                      164823\n",
       "PRA_dispatch                       164779\n",
       "CallTime CallRoute                 164677\n",
       "Calltime Dispatch                  190062\n",
       "Calltime Arrive                    315435\n",
       "Calltime Cleared                   164743\n",
       "CallRoute Dispatch                 190057\n",
       "Dispatch Arrive                    318475\n",
       "Arrive Cleared                     315465\n",
       "Disposition Desc                   164637\n",
       "WKT_dispatch                       164636\n",
       "dtype: int64"
      ]
     },
     "execution_count": 142,
     "metadata": {},
     "output_type": "execute_result"
    }
   ],
   "source": [
    "incidents.isna().sum()"
   ]
  },
  {
   "cell_type": "markdown",
   "id": "a5dd9836-5899-4f1a-ac9f-1e147fa45ce0",
   "metadata": {},
   "source": [
    "# Matching columns and checking for errors "
   ]
  },
  {
   "cell_type": "markdown",
   "id": "51415e2c-6d85-4fce-abfa-4cf18c2d5057",
   "metadata": {},
   "source": [
    "The following coloumns should be synthesised \n",
    "> Police District Name - Police District Number_crime - Police District Number_dispatch ?\n",
    "> WKT_dispatch - WKT_crime - distance between ?\n",
    "> Start_Time_crime End_Time_crime - Start_Time_dispatch End_Time_dispatch\n",
    "\n",
    "Remove: \n",
    "> Beat_dispatch                      164823\n",
    "> PRA_dispatch                       164779\n",
    "> Beat_crime                         557003\n",
    "> PRA_crime                          557004\n",
    "> Offence code \n",
    "> Disposition Desc                   164637\n",
    "> CallTime CallRoute                 164677\n",
    "> Calltime Dispatch                  190062\n",
    "> Calltime Arrive                    315435\n",
    "> Calltime Cleared                   164743\n",
    "> CallRoute Dispatch                 190057\n",
    "> Dispatch Arrive                    318475\n",
    "> Arrive Cleared                     315465"
   ]
  },
  {
   "cell_type": "code",
   "execution_count": 83,
   "id": "813327b2-7c40-4a47-a16a-3c4b61c06d31",
   "metadata": {},
   "outputs": [],
   "source": [
    "# Yet to run\n",
    "matches = incidents.dropna(subset=['ID']).shape[0]\n",
    "just_dispatch = incidents[incidents['Offence Code'].isna()].shape[0]\n",
    "just_crime = incidents[incidents['Priority'].isna()].shape[0]"
   ]
  },
  {
   "cell_type": "code",
   "execution_count": null,
   "id": "86a326a3-f3d2-4dd7-b4a5-99a08dd216d5",
   "metadata": {},
   "outputs": [],
   "source": [
    "categories = ['Matches', 'Only in Crime', 'Only in Dispatch']\n",
    "values = [matches, just_crime, just_dispatch]\n",
    "plt.bar(categories, values)\n",
    "plt.title('Comparison of Matches and Mismatches between Crime and Dispatch')\n",
    "plt.ylabel('Number of Entries')\n",
    "plt.show()"
   ]
  },
  {
   "cell_type": "code",
   "execution_count": null,
   "id": "5c0b1f92-e9a6-416d-9e66-128b70c067af",
   "metadata": {},
   "outputs": [],
   "source": [
    "# Save for use in dashboards\n",
    "# dispatch.to_csv('/Users/gimle/DATA-205-SETS/dispatch_dash.csv', index=False)\n",
    "# crime.to_csv('/Users/gimle/DATA-205-SETS/crime_dash.csv', index=False)\n",
    "# incidents.to_csv('/Users/gimle/DATA-205-SETS/incidents_gis_ready.csv', index=False)"
   ]
  }
 ],
 "metadata": {
  "kernelspec": {
   "display_name": "Python 3 (ipykernel)",
   "language": "python",
   "name": "python3"
  },
  "language_info": {
   "codemirror_mode": {
    "name": "ipython",
    "version": 3
   },
   "file_extension": ".py",
   "mimetype": "text/x-python",
   "name": "python",
   "nbconvert_exporter": "python",
   "pygments_lexer": "ipython3",
   "version": "3.12.4"
  }
 },
 "nbformat": 4,
 "nbformat_minor": 5
}
